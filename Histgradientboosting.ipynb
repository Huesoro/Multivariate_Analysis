{
 "cells": [
  {
   "cell_type": "code",
   "execution_count": 2,
   "metadata": {},
   "outputs": [],
   "source": [
    "import numpy as np\n",
    "import pandas as pd\n",
    "import matplotlib.pyplot as plt\n",
    "from sklearn.preprocessing import StandardScaler\n",
    "from sklearn.linear_model import Ridge\n",
    "from lightgbm import LGBMRegressor\n",
    "from sklearn.metrics import mean_absolute_error\n",
    "\n",
    "from skforecast.ForecasterAutoregMultiVariate import ForecasterAutoregMultiVariate\n",
    "from skforecast.model_selection_multiseries import backtesting_forecaster_multiseries\n",
    "from skforecast.model_selection_multiseries import grid_search_forecaster_multiseries\n",
    "from skforecast.model_selection_multiseries import random_search_forecaster_multiseries\n",
    "from skforecast.model_selection_multiseries import bayesian_search_forecaster_multiseries"
   ]
  },
  {
   "cell_type": "markdown",
   "metadata": {},
   "source": [
    "# Se transforman los datos, se crean variables exogenas y se coloca la columna datetime como indice"
   ]
  },
  {
   "cell_type": "code",
   "execution_count": 3,
   "metadata": {},
   "outputs": [],
   "source": [
    "df = pd.read_csv(\"df_time_serie_2022.csv\")\n",
    "df.FECHA = pd.to_datetime(df.FECHA)\n",
    "df.set_index(\"FECHA\", inplace=True)\n"
   ]
  },
  {
   "cell_type": "markdown",
   "metadata": {},
   "source": [
    "# Se eliminan las columnas de más, de igual manera se eliminan los productos con menos de 50 ventas en 2023"
   ]
  },
  {
   "cell_type": "code",
   "execution_count": 4,
   "metadata": {},
   "outputs": [],
   "source": [
    "df[\"Dia de la semana\"] = df.index.dayofweek"
   ]
  },
  {
   "cell_type": "code",
   "execution_count": 5,
   "metadata": {},
   "outputs": [],
   "source": [
    "exog = df[[\"Dia de la semana\",\"Mes\", \"Dia\", \"Hora\"]]\n",
    "df.drop(columns=[\"Dia de la semana\",\"Mes\", \"Dia\", \"Hora\"], inplace=True)"
   ]
  },
  {
   "cell_type": "code",
   "execution_count": 6,
   "metadata": {},
   "outputs": [
    {
     "name": "stderr",
     "output_type": "stream",
     "text": [
      "C:\\Users\\jesus\\AppData\\Local\\Temp\\ipykernel_34428\\766249261.py:4: SettingWithCopyWarning: \n",
      "A value is trying to be set on a copy of a slice from a DataFrame.\n",
      "Try using .loc[row_indexer,col_indexer] = value instead\n",
      "\n",
      "See the caveats in the documentation: https://pandas.pydata.org/pandas-docs/stable/user_guide/indexing.html#returning-a-view-versus-a-copy\n",
      "  exog[\"Dia del mes\"] = exog.index.day\n"
     ]
    }
   ],
   "source": [
    "#Agregar dia del mes\n",
    "\n",
    "\n",
    "exog[\"Dia del mes\"] = exog.index.day\n",
    "#Convertir a dummies dia de la semana y mes\n",
    "exog = pd.get_dummies(exog, columns=[\"Dia de la semana\",\"Mes\"])"
   ]
  },
  {
   "cell_type": "code",
   "execution_count": 9,
   "metadata": {},
   "outputs": [
    {
     "data": {
      "text/html": [
       "<div>\n",
       "<style scoped>\n",
       "    .dataframe tbody tr th:only-of-type {\n",
       "        vertical-align: middle;\n",
       "    }\n",
       "\n",
       "    .dataframe tbody tr th {\n",
       "        vertical-align: top;\n",
       "    }\n",
       "\n",
       "    .dataframe thead th {\n",
       "        text-align: right;\n",
       "    }\n",
       "</style>\n",
       "<table border=\"1\" class=\"dataframe\">\n",
       "  <thead>\n",
       "    <tr style=\"text-align: right;\">\n",
       "      <th></th>\n",
       "      <th>Dia de la semana_0</th>\n",
       "      <th>Dia de la semana_1</th>\n",
       "      <th>Dia de la semana_2</th>\n",
       "      <th>Dia de la semana_3</th>\n",
       "      <th>Dia de la semana_4</th>\n",
       "      <th>Dia de la semana_5</th>\n",
       "      <th>Dia de la semana_6</th>\n",
       "      <th>Mes_1.0</th>\n",
       "      <th>Mes_2.0</th>\n",
       "      <th>Mes_3.0</th>\n",
       "      <th>...</th>\n",
       "      <th>Mes_9.0</th>\n",
       "      <th>Mes_10.0</th>\n",
       "      <th>Mes_11.0</th>\n",
       "      <th>Mes_12.0</th>\n",
       "      <th>hour_cos</th>\n",
       "      <th>hour_sin</th>\n",
       "      <th>day_cos</th>\n",
       "      <th>day_sin</th>\n",
       "      <th>Dia del año cos</th>\n",
       "      <th>Dia del año sin</th>\n",
       "    </tr>\n",
       "    <tr>\n",
       "      <th>FECHA</th>\n",
       "      <th></th>\n",
       "      <th></th>\n",
       "      <th></th>\n",
       "      <th></th>\n",
       "      <th></th>\n",
       "      <th></th>\n",
       "      <th></th>\n",
       "      <th></th>\n",
       "      <th></th>\n",
       "      <th></th>\n",
       "      <th></th>\n",
       "      <th></th>\n",
       "      <th></th>\n",
       "      <th></th>\n",
       "      <th></th>\n",
       "      <th></th>\n",
       "      <th></th>\n",
       "      <th></th>\n",
       "      <th></th>\n",
       "      <th></th>\n",
       "      <th></th>\n",
       "    </tr>\n",
       "  </thead>\n",
       "  <tbody>\n",
       "    <tr>\n",
       "      <th>2022-01-01 00:00:00</th>\n",
       "      <td>False</td>\n",
       "      <td>False</td>\n",
       "      <td>False</td>\n",
       "      <td>False</td>\n",
       "      <td>False</td>\n",
       "      <td>True</td>\n",
       "      <td>False</td>\n",
       "      <td>True</td>\n",
       "      <td>False</td>\n",
       "      <td>False</td>\n",
       "      <td>...</td>\n",
       "      <td>False</td>\n",
       "      <td>False</td>\n",
       "      <td>False</td>\n",
       "      <td>False</td>\n",
       "      <td>1.000000</td>\n",
       "      <td>0.000000</td>\n",
       "      <td>0.979530</td>\n",
       "      <td>2.012985e-01</td>\n",
       "      <td>0.999852</td>\n",
       "      <td>0.017213</td>\n",
       "    </tr>\n",
       "    <tr>\n",
       "      <th>2022-01-01 01:00:00</th>\n",
       "      <td>False</td>\n",
       "      <td>False</td>\n",
       "      <td>False</td>\n",
       "      <td>False</td>\n",
       "      <td>False</td>\n",
       "      <td>True</td>\n",
       "      <td>False</td>\n",
       "      <td>True</td>\n",
       "      <td>False</td>\n",
       "      <td>False</td>\n",
       "      <td>...</td>\n",
       "      <td>False</td>\n",
       "      <td>False</td>\n",
       "      <td>False</td>\n",
       "      <td>False</td>\n",
       "      <td>0.965926</td>\n",
       "      <td>0.258819</td>\n",
       "      <td>0.979530</td>\n",
       "      <td>2.012985e-01</td>\n",
       "      <td>0.999852</td>\n",
       "      <td>0.017213</td>\n",
       "    </tr>\n",
       "    <tr>\n",
       "      <th>2022-01-01 02:00:00</th>\n",
       "      <td>False</td>\n",
       "      <td>False</td>\n",
       "      <td>False</td>\n",
       "      <td>False</td>\n",
       "      <td>False</td>\n",
       "      <td>True</td>\n",
       "      <td>False</td>\n",
       "      <td>True</td>\n",
       "      <td>False</td>\n",
       "      <td>False</td>\n",
       "      <td>...</td>\n",
       "      <td>False</td>\n",
       "      <td>False</td>\n",
       "      <td>False</td>\n",
       "      <td>False</td>\n",
       "      <td>0.866025</td>\n",
       "      <td>0.500000</td>\n",
       "      <td>0.979530</td>\n",
       "      <td>2.012985e-01</td>\n",
       "      <td>0.999852</td>\n",
       "      <td>0.017213</td>\n",
       "    </tr>\n",
       "    <tr>\n",
       "      <th>2022-01-01 03:00:00</th>\n",
       "      <td>False</td>\n",
       "      <td>False</td>\n",
       "      <td>False</td>\n",
       "      <td>False</td>\n",
       "      <td>False</td>\n",
       "      <td>True</td>\n",
       "      <td>False</td>\n",
       "      <td>True</td>\n",
       "      <td>False</td>\n",
       "      <td>False</td>\n",
       "      <td>...</td>\n",
       "      <td>False</td>\n",
       "      <td>False</td>\n",
       "      <td>False</td>\n",
       "      <td>False</td>\n",
       "      <td>0.707107</td>\n",
       "      <td>0.707107</td>\n",
       "      <td>0.979530</td>\n",
       "      <td>2.012985e-01</td>\n",
       "      <td>0.999852</td>\n",
       "      <td>0.017213</td>\n",
       "    </tr>\n",
       "    <tr>\n",
       "      <th>2022-01-01 04:00:00</th>\n",
       "      <td>False</td>\n",
       "      <td>False</td>\n",
       "      <td>False</td>\n",
       "      <td>False</td>\n",
       "      <td>False</td>\n",
       "      <td>True</td>\n",
       "      <td>False</td>\n",
       "      <td>True</td>\n",
       "      <td>False</td>\n",
       "      <td>False</td>\n",
       "      <td>...</td>\n",
       "      <td>False</td>\n",
       "      <td>False</td>\n",
       "      <td>False</td>\n",
       "      <td>False</td>\n",
       "      <td>0.500000</td>\n",
       "      <td>0.866025</td>\n",
       "      <td>0.979530</td>\n",
       "      <td>2.012985e-01</td>\n",
       "      <td>0.999852</td>\n",
       "      <td>0.017213</td>\n",
       "    </tr>\n",
       "    <tr>\n",
       "      <th>...</th>\n",
       "      <td>...</td>\n",
       "      <td>...</td>\n",
       "      <td>...</td>\n",
       "      <td>...</td>\n",
       "      <td>...</td>\n",
       "      <td>...</td>\n",
       "      <td>...</td>\n",
       "      <td>...</td>\n",
       "      <td>...</td>\n",
       "      <td>...</td>\n",
       "      <td>...</td>\n",
       "      <td>...</td>\n",
       "      <td>...</td>\n",
       "      <td>...</td>\n",
       "      <td>...</td>\n",
       "      <td>...</td>\n",
       "      <td>...</td>\n",
       "      <td>...</td>\n",
       "      <td>...</td>\n",
       "      <td>...</td>\n",
       "      <td>...</td>\n",
       "    </tr>\n",
       "    <tr>\n",
       "      <th>2024-07-31 21:00:00</th>\n",
       "      <td>False</td>\n",
       "      <td>False</td>\n",
       "      <td>True</td>\n",
       "      <td>False</td>\n",
       "      <td>False</td>\n",
       "      <td>False</td>\n",
       "      <td>False</td>\n",
       "      <td>False</td>\n",
       "      <td>False</td>\n",
       "      <td>False</td>\n",
       "      <td>...</td>\n",
       "      <td>False</td>\n",
       "      <td>False</td>\n",
       "      <td>False</td>\n",
       "      <td>False</td>\n",
       "      <td>0.707107</td>\n",
       "      <td>-0.707107</td>\n",
       "      <td>1.000000</td>\n",
       "      <td>-2.449294e-16</td>\n",
       "      <td>-0.865307</td>\n",
       "      <td>-0.501242</td>\n",
       "    </tr>\n",
       "    <tr>\n",
       "      <th>2024-07-31 22:00:00</th>\n",
       "      <td>False</td>\n",
       "      <td>False</td>\n",
       "      <td>True</td>\n",
       "      <td>False</td>\n",
       "      <td>False</td>\n",
       "      <td>False</td>\n",
       "      <td>False</td>\n",
       "      <td>False</td>\n",
       "      <td>False</td>\n",
       "      <td>False</td>\n",
       "      <td>...</td>\n",
       "      <td>False</td>\n",
       "      <td>False</td>\n",
       "      <td>False</td>\n",
       "      <td>False</td>\n",
       "      <td>0.866025</td>\n",
       "      <td>-0.500000</td>\n",
       "      <td>1.000000</td>\n",
       "      <td>-2.449294e-16</td>\n",
       "      <td>-0.865307</td>\n",
       "      <td>-0.501242</td>\n",
       "    </tr>\n",
       "    <tr>\n",
       "      <th>2024-07-31 23:00:00</th>\n",
       "      <td>False</td>\n",
       "      <td>False</td>\n",
       "      <td>True</td>\n",
       "      <td>False</td>\n",
       "      <td>False</td>\n",
       "      <td>False</td>\n",
       "      <td>False</td>\n",
       "      <td>False</td>\n",
       "      <td>False</td>\n",
       "      <td>False</td>\n",
       "      <td>...</td>\n",
       "      <td>False</td>\n",
       "      <td>False</td>\n",
       "      <td>False</td>\n",
       "      <td>False</td>\n",
       "      <td>0.965926</td>\n",
       "      <td>-0.258819</td>\n",
       "      <td>1.000000</td>\n",
       "      <td>-2.449294e-16</td>\n",
       "      <td>-0.865307</td>\n",
       "      <td>-0.501242</td>\n",
       "    </tr>\n",
       "    <tr>\n",
       "      <th>2023-02-11 19:00:00</th>\n",
       "      <td>False</td>\n",
       "      <td>False</td>\n",
       "      <td>False</td>\n",
       "      <td>False</td>\n",
       "      <td>False</td>\n",
       "      <td>True</td>\n",
       "      <td>False</td>\n",
       "      <td>False</td>\n",
       "      <td>True</td>\n",
       "      <td>False</td>\n",
       "      <td>...</td>\n",
       "      <td>False</td>\n",
       "      <td>False</td>\n",
       "      <td>False</td>\n",
       "      <td>False</td>\n",
       "      <td>0.258819</td>\n",
       "      <td>-0.965926</td>\n",
       "      <td>-0.612106</td>\n",
       "      <td>7.907757e-01</td>\n",
       "      <td>0.749826</td>\n",
       "      <td>0.661635</td>\n",
       "    </tr>\n",
       "    <tr>\n",
       "      <th>2023-10-31 17:00:00</th>\n",
       "      <td>False</td>\n",
       "      <td>True</td>\n",
       "      <td>False</td>\n",
       "      <td>False</td>\n",
       "      <td>False</td>\n",
       "      <td>False</td>\n",
       "      <td>False</td>\n",
       "      <td>False</td>\n",
       "      <td>False</td>\n",
       "      <td>False</td>\n",
       "      <td>...</td>\n",
       "      <td>False</td>\n",
       "      <td>True</td>\n",
       "      <td>False</td>\n",
       "      <td>False</td>\n",
       "      <td>-0.258819</td>\n",
       "      <td>-0.965926</td>\n",
       "      <td>1.000000</td>\n",
       "      <td>-2.449294e-16</td>\n",
       "      <td>0.497513</td>\n",
       "      <td>-0.867456</td>\n",
       "    </tr>\n",
       "  </tbody>\n",
       "</table>\n",
       "<p>22632 rows × 25 columns</p>\n",
       "</div>"
      ],
      "text/plain": [
       "                     Dia de la semana_0  Dia de la semana_1  \\\n",
       "FECHA                                                         \n",
       "2022-01-01 00:00:00               False               False   \n",
       "2022-01-01 01:00:00               False               False   \n",
       "2022-01-01 02:00:00               False               False   \n",
       "2022-01-01 03:00:00               False               False   \n",
       "2022-01-01 04:00:00               False               False   \n",
       "...                                 ...                 ...   \n",
       "2024-07-31 21:00:00               False               False   \n",
       "2024-07-31 22:00:00               False               False   \n",
       "2024-07-31 23:00:00               False               False   \n",
       "2023-02-11 19:00:00               False               False   \n",
       "2023-10-31 17:00:00               False                True   \n",
       "\n",
       "                     Dia de la semana_2  Dia de la semana_3  \\\n",
       "FECHA                                                         \n",
       "2022-01-01 00:00:00               False               False   \n",
       "2022-01-01 01:00:00               False               False   \n",
       "2022-01-01 02:00:00               False               False   \n",
       "2022-01-01 03:00:00               False               False   \n",
       "2022-01-01 04:00:00               False               False   \n",
       "...                                 ...                 ...   \n",
       "2024-07-31 21:00:00                True               False   \n",
       "2024-07-31 22:00:00                True               False   \n",
       "2024-07-31 23:00:00                True               False   \n",
       "2023-02-11 19:00:00               False               False   \n",
       "2023-10-31 17:00:00               False               False   \n",
       "\n",
       "                     Dia de la semana_4  Dia de la semana_5  \\\n",
       "FECHA                                                         \n",
       "2022-01-01 00:00:00               False                True   \n",
       "2022-01-01 01:00:00               False                True   \n",
       "2022-01-01 02:00:00               False                True   \n",
       "2022-01-01 03:00:00               False                True   \n",
       "2022-01-01 04:00:00               False                True   \n",
       "...                                 ...                 ...   \n",
       "2024-07-31 21:00:00               False               False   \n",
       "2024-07-31 22:00:00               False               False   \n",
       "2024-07-31 23:00:00               False               False   \n",
       "2023-02-11 19:00:00               False                True   \n",
       "2023-10-31 17:00:00               False               False   \n",
       "\n",
       "                     Dia de la semana_6  Mes_1.0  Mes_2.0  Mes_3.0  ...  \\\n",
       "FECHA                                                               ...   \n",
       "2022-01-01 00:00:00               False     True    False    False  ...   \n",
       "2022-01-01 01:00:00               False     True    False    False  ...   \n",
       "2022-01-01 02:00:00               False     True    False    False  ...   \n",
       "2022-01-01 03:00:00               False     True    False    False  ...   \n",
       "2022-01-01 04:00:00               False     True    False    False  ...   \n",
       "...                                 ...      ...      ...      ...  ...   \n",
       "2024-07-31 21:00:00               False    False    False    False  ...   \n",
       "2024-07-31 22:00:00               False    False    False    False  ...   \n",
       "2024-07-31 23:00:00               False    False    False    False  ...   \n",
       "2023-02-11 19:00:00               False    False     True    False  ...   \n",
       "2023-10-31 17:00:00               False    False    False    False  ...   \n",
       "\n",
       "                     Mes_9.0  Mes_10.0  Mes_11.0  Mes_12.0  hour_cos  \\\n",
       "FECHA                                                                  \n",
       "2022-01-01 00:00:00    False     False     False     False  1.000000   \n",
       "2022-01-01 01:00:00    False     False     False     False  0.965926   \n",
       "2022-01-01 02:00:00    False     False     False     False  0.866025   \n",
       "2022-01-01 03:00:00    False     False     False     False  0.707107   \n",
       "2022-01-01 04:00:00    False     False     False     False  0.500000   \n",
       "...                      ...       ...       ...       ...       ...   \n",
       "2024-07-31 21:00:00    False     False     False     False  0.707107   \n",
       "2024-07-31 22:00:00    False     False     False     False  0.866025   \n",
       "2024-07-31 23:00:00    False     False     False     False  0.965926   \n",
       "2023-02-11 19:00:00    False     False     False     False  0.258819   \n",
       "2023-10-31 17:00:00    False      True     False     False -0.258819   \n",
       "\n",
       "                     hour_sin   day_cos       day_sin  Dia del año cos  \\\n",
       "FECHA                                                                    \n",
       "2022-01-01 00:00:00  0.000000  0.979530  2.012985e-01         0.999852   \n",
       "2022-01-01 01:00:00  0.258819  0.979530  2.012985e-01         0.999852   \n",
       "2022-01-01 02:00:00  0.500000  0.979530  2.012985e-01         0.999852   \n",
       "2022-01-01 03:00:00  0.707107  0.979530  2.012985e-01         0.999852   \n",
       "2022-01-01 04:00:00  0.866025  0.979530  2.012985e-01         0.999852   \n",
       "...                       ...       ...           ...              ...   \n",
       "2024-07-31 21:00:00 -0.707107  1.000000 -2.449294e-16        -0.865307   \n",
       "2024-07-31 22:00:00 -0.500000  1.000000 -2.449294e-16        -0.865307   \n",
       "2024-07-31 23:00:00 -0.258819  1.000000 -2.449294e-16        -0.865307   \n",
       "2023-02-11 19:00:00 -0.965926 -0.612106  7.907757e-01         0.749826   \n",
       "2023-10-31 17:00:00 -0.965926  1.000000 -2.449294e-16         0.497513   \n",
       "\n",
       "                     Dia del año sin  \n",
       "FECHA                                 \n",
       "2022-01-01 00:00:00         0.017213  \n",
       "2022-01-01 01:00:00         0.017213  \n",
       "2022-01-01 02:00:00         0.017213  \n",
       "2022-01-01 03:00:00         0.017213  \n",
       "2022-01-01 04:00:00         0.017213  \n",
       "...                              ...  \n",
       "2024-07-31 21:00:00        -0.501242  \n",
       "2024-07-31 22:00:00        -0.501242  \n",
       "2024-07-31 23:00:00        -0.501242  \n",
       "2023-02-11 19:00:00         0.661635  \n",
       "2023-10-31 17:00:00        -0.867456  \n",
       "\n",
       "[22632 rows x 25 columns]"
      ]
     },
     "execution_count": 9,
     "metadata": {},
     "output_type": "execute_result"
    }
   ],
   "source": [
    "#Convert the days and hour to cos\n",
    "exog[\"hour_cos\"] = np.cos(2*np.pi*exog[\"Hora\"]/24)\n",
    "exog[\"hour_sin\"] = np.sin(2*np.pi*exog[\"Hora\"]/24)\n",
    "exog[\"day_cos\"] = np.cos(2*np.pi*exog[\"Dia del mes\"]/31)\n",
    "exog[\"day_sin\"] = np.sin(2*np.pi*exog[\"Dia del mes\"]/31)\n",
    "exog[\"Dia del año cos\"] = np.cos(2*np.pi*exog[\"Dia\"]/365)\n",
    "exog[\"Dia del año sin\"] = np.sin(2*np.pi*exog[\"Dia\"]/365)\n",
    "#drop\n",
    "exog.drop(columns=[\"Hora\",\"Dia del mes\",\"Dia\"], inplace=True)\n",
    "exog"
   ]
  },
  {
   "cell_type": "code",
   "execution_count": 10,
   "metadata": {},
   "outputs": [],
   "source": [
    "df = df.asfreq(\"h\")"
   ]
  },
  {
   "cell_type": "markdown",
   "metadata": {},
   "source": [
    "Crear Exog asfreq h sin valores nulos, cambiar tipo de valor de bool a int"
   ]
  },
  {
   "cell_type": "code",
   "execution_count": 11,
   "metadata": {},
   "outputs": [],
   "source": [
    "exog = exog.asfreq(\"h\")\n",
    "#Convert bool to int\n",
    "exog = exog.astype(int)"
   ]
  },
  {
   "cell_type": "code",
   "execution_count": 12,
   "metadata": {},
   "outputs": [],
   "source": [
    "# Seleccionar las columnas que contengan la palabra \"SURESTE\" y no \"SURESTE 2\" o \"SURESTE 3\"\n",
    "x = df.filter(regex=(\"SURESTE(?! 2| 3)\")).columns"
   ]
  },
  {
   "cell_type": "markdown",
   "metadata": {},
   "source": [
    "# Se divide el test en validacion, test y entrenamiento"
   ]
  },
  {
   "cell_type": "code",
   "execution_count": 13,
   "metadata": {},
   "outputs": [
    {
     "name": "stdout",
     "output_type": "stream",
     "text": [
      "Train dates      : 2022-01-01 00:00:00 --- 2024-02-29 23:00:00  (n=18960)\n",
      "Validation dates : 2024-02-29 23:00:00 --- 2024-07-30 23:00:00  (n=3649)\n",
      "Test dates       : 2024-07-30 23:00:00 --- 2024-07-31 23:00:00  (n=25)\n"
     ]
    }
   ],
   "source": [
    "# Split data into train-validation-test\n",
    "# ======================================================================================\n",
    "end_train = '2024-02-29 23:00:00'\n",
    "end_val = '2024-07-30 23:00:00'\n",
    "\n",
    "data_train = df.loc[:end_train, :].copy()\n",
    "data_val   = df.loc[end_train:end_val, :].copy()\n",
    "data_test  = df.loc[end_val:, :].copy()\n",
    "exog_train = exog.loc[:end_train, :].copy()\n",
    "exog_val   = exog.loc[end_train:end_val, :].copy()\n",
    "exog_test  = exog.loc[end_val:, :].copy()\n",
    "\n",
    "print(f\"Train dates      : {data_train.index.min()} --- {data_train.index.max()}  (n={len(data_train)})\")\n",
    "print(f\"Validation dates : {data_val.index.min()} --- {data_val.index.max()}  (n={len(data_val)})\")\n",
    "print(f\"Test dates       : {data_test.index.min()} --- {data_test.index.max()}  (n={len(data_test)})\")"
   ]
  },
  {
   "cell_type": "markdown",
   "metadata": {},
   "source": [
    "Medidas a cambiar a futuro:\n",
    "Tiempo a predecir: 6 horas adelante, 12 horas adelante y un día.\n",
    "\n",
    "ForecasterAutoregMultiVariate, con todo el dataframe, con una estación."
   ]
  },
  {
   "cell_type": "markdown",
   "metadata": {},
   "source": [
    "Algunas de los trends que hay"
   ]
  },
  {
   "cell_type": "markdown",
   "metadata": {},
   "source": [
    "## Se buscan los mejores hiperparametros para el modelo por grid-search y se guardan en un dataframe"
   ]
  },
  {
   "cell_type": "markdown",
   "metadata": {},
   "source": [
    "Intento con datos de una estación, solo 6 horas"
   ]
  },
  {
   "cell_type": "code",
   "execution_count": 22,
   "metadata": {},
   "outputs": [],
   "source": [
    "from sklearn.metrics import mean_absolute_error, mean_absolute_percentage_error, mean_squared_error, r2_score"
   ]
  },
  {
   "cell_type": "code",
   "execution_count": null,
   "metadata": {},
   "outputs": [
    {
     "data": {
      "application/vnd.jupyter.widget-view+json": {
       "model_id": "3d84a1b5022e46c386ac95530f51bd02",
       "version_major": 2,
       "version_minor": 0
      },
      "text/plain": [
       "  0%|          | 0/5 [00:00<?, ?it/s]"
      ]
     },
     "metadata": {},
     "output_type": "display_data"
    },
    {
     "name": "stderr",
     "output_type": "stream",
     "text": [
      "C:\\Users\\jesus\\AppData\\Local\\Temp\\ipykernel_34428\\3972987981.py:10: FutureWarning: suggest_loguniform has been deprecated in v3.0.0. This feature will be removed in v6.0.0. See https://github.com/optuna/optuna/releases/tag/v3.0.0. Use suggest_float(..., log=True) instead.\n",
      "  'learning_rate'   : trial.suggest_loguniform('learning_rate', 1e-4, 1e-1),\n",
      "C:\\Users\\jesus\\AppData\\Local\\Temp\\ipykernel_34428\\3972987981.py:13: FutureWarning: suggest_loguniform has been deprecated in v3.0.0. This feature will be removed in v6.0.0. See https://github.com/optuna/optuna/releases/tag/v3.0.0. Use suggest_float(..., log=True) instead.\n",
      "  'reg_alpha': trial.suggest_loguniform('reg_alpha', 1e-8, 10.0),\n",
      "C:\\Users\\jesus\\AppData\\Local\\Temp\\ipykernel_34428\\3972987981.py:14: FutureWarning: suggest_loguniform has been deprecated in v3.0.0. This feature will be removed in v6.0.0. See https://github.com/optuna/optuna/releases/tag/v3.0.0. Use suggest_float(..., log=True) instead.\n",
      "  'reg_lambda': trial.suggest_loguniform('reg_lambda', 1e-8, 10.0)\n",
      "C:\\Users\\jesus\\AppData\\Local\\Temp\\ipykernel_34428\\3972987981.py:10: FutureWarning: suggest_loguniform has been deprecated in v3.0.0. This feature will be removed in v6.0.0. See https://github.com/optuna/optuna/releases/tag/v3.0.0. Use suggest_float(..., log=True) instead.\n",
      "  'learning_rate'   : trial.suggest_loguniform('learning_rate', 1e-4, 1e-1),\n",
      "C:\\Users\\jesus\\AppData\\Local\\Temp\\ipykernel_34428\\3972987981.py:13: FutureWarning: suggest_loguniform has been deprecated in v3.0.0. This feature will be removed in v6.0.0. See https://github.com/optuna/optuna/releases/tag/v3.0.0. Use suggest_float(..., log=True) instead.\n",
      "  'reg_alpha': trial.suggest_loguniform('reg_alpha', 1e-8, 10.0),\n",
      "C:\\Users\\jesus\\AppData\\Local\\Temp\\ipykernel_34428\\3972987981.py:14: FutureWarning: suggest_loguniform has been deprecated in v3.0.0. This feature will be removed in v6.0.0. See https://github.com/optuna/optuna/releases/tag/v3.0.0. Use suggest_float(..., log=True) instead.\n",
      "  'reg_lambda': trial.suggest_loguniform('reg_lambda', 1e-8, 10.0)\n",
      "C:\\Users\\jesus\\AppData\\Local\\Temp\\ipykernel_34428\\3972987981.py:10: FutureWarning: suggest_loguniform has been deprecated in v3.0.0. This feature will be removed in v6.0.0. See https://github.com/optuna/optuna/releases/tag/v3.0.0. Use suggest_float(..., log=True) instead.\n",
      "  'learning_rate'   : trial.suggest_loguniform('learning_rate', 1e-4, 1e-1),\n",
      "C:\\Users\\jesus\\AppData\\Local\\Temp\\ipykernel_34428\\3972987981.py:13: FutureWarning: suggest_loguniform has been deprecated in v3.0.0. This feature will be removed in v6.0.0. See https://github.com/optuna/optuna/releases/tag/v3.0.0. Use suggest_float(..., log=True) instead.\n",
      "  'reg_alpha': trial.suggest_loguniform('reg_alpha', 1e-8, 10.0),\n",
      "C:\\Users\\jesus\\AppData\\Local\\Temp\\ipykernel_34428\\3972987981.py:14: FutureWarning: suggest_loguniform has been deprecated in v3.0.0. This feature will be removed in v6.0.0. See https://github.com/optuna/optuna/releases/tag/v3.0.0. Use suggest_float(..., log=True) instead.\n",
      "  'reg_lambda': trial.suggest_loguniform('reg_lambda', 1e-8, 10.0)\n",
      "C:\\Users\\jesus\\AppData\\Local\\Temp\\ipykernel_34428\\3972987981.py:10: FutureWarning: suggest_loguniform has been deprecated in v3.0.0. This feature will be removed in v6.0.0. See https://github.com/optuna/optuna/releases/tag/v3.0.0. Use suggest_float(..., log=True) instead.\n",
      "  'learning_rate'   : trial.suggest_loguniform('learning_rate', 1e-4, 1e-1),\n",
      "C:\\Users\\jesus\\AppData\\Local\\Temp\\ipykernel_34428\\3972987981.py:13: FutureWarning: suggest_loguniform has been deprecated in v3.0.0. This feature will be removed in v6.0.0. See https://github.com/optuna/optuna/releases/tag/v3.0.0. Use suggest_float(..., log=True) instead.\n",
      "  'reg_alpha': trial.suggest_loguniform('reg_alpha', 1e-8, 10.0),\n",
      "C:\\Users\\jesus\\AppData\\Local\\Temp\\ipykernel_34428\\3972987981.py:14: FutureWarning: suggest_loguniform has been deprecated in v3.0.0. This feature will be removed in v6.0.0. See https://github.com/optuna/optuna/releases/tag/v3.0.0. Use suggest_float(..., log=True) instead.\n",
      "  'reg_lambda': trial.suggest_loguniform('reg_lambda', 1e-8, 10.0)\n",
      "C:\\Users\\jesus\\AppData\\Local\\Temp\\ipykernel_34428\\3972987981.py:10: FutureWarning: suggest_loguniform has been deprecated in v3.0.0. This feature will be removed in v6.0.0. See https://github.com/optuna/optuna/releases/tag/v3.0.0. Use suggest_float(..., log=True) instead.\n",
      "  'learning_rate'   : trial.suggest_loguniform('learning_rate', 1e-4, 1e-1),\n",
      "C:\\Users\\jesus\\AppData\\Local\\Temp\\ipykernel_34428\\3972987981.py:13: FutureWarning: suggest_loguniform has been deprecated in v3.0.0. This feature will be removed in v6.0.0. See https://github.com/optuna/optuna/releases/tag/v3.0.0. Use suggest_float(..., log=True) instead.\n",
      "  'reg_alpha': trial.suggest_loguniform('reg_alpha', 1e-8, 10.0),\n",
      "C:\\Users\\jesus\\AppData\\Local\\Temp\\ipykernel_34428\\3972987981.py:14: FutureWarning: suggest_loguniform has been deprecated in v3.0.0. This feature will be removed in v6.0.0. See https://github.com/optuna/optuna/releases/tag/v3.0.0. Use suggest_float(..., log=True) instead.\n",
      "  'reg_lambda': trial.suggest_loguniform('reg_lambda', 1e-8, 10.0)\n",
      "C:\\Users\\jesus\\AppData\\Local\\Temp\\ipykernel_34428\\3972987981.py:10: FutureWarning: suggest_loguniform has been deprecated in v3.0.0. This feature will be removed in v6.0.0. See https://github.com/optuna/optuna/releases/tag/v3.0.0. Use suggest_float(..., log=True) instead.\n",
      "  'learning_rate'   : trial.suggest_loguniform('learning_rate', 1e-4, 1e-1),\n",
      "C:\\Users\\jesus\\AppData\\Local\\Temp\\ipykernel_34428\\3972987981.py:13: FutureWarning: suggest_loguniform has been deprecated in v3.0.0. This feature will be removed in v6.0.0. See https://github.com/optuna/optuna/releases/tag/v3.0.0. Use suggest_float(..., log=True) instead.\n",
      "  'reg_alpha': trial.suggest_loguniform('reg_alpha', 1e-8, 10.0),\n",
      "C:\\Users\\jesus\\AppData\\Local\\Temp\\ipykernel_34428\\3972987981.py:14: FutureWarning: suggest_loguniform has been deprecated in v3.0.0. This feature will be removed in v6.0.0. See https://github.com/optuna/optuna/releases/tag/v3.0.0. Use suggest_float(..., log=True) instead.\n",
      "  'reg_lambda': trial.suggest_loguniform('reg_lambda', 1e-8, 10.0)\n"
     ]
    },
    {
     "data": {
      "application/vnd.jupyter.widget-view+json": {
       "model_id": "0efceb5cd6e141f4ad0d293bc2d3895a",
       "version_major": 2,
       "version_minor": 0
      },
      "text/plain": [
       "  0%|          | 0/5 [00:00<?, ?it/s]"
      ]
     },
     "metadata": {},
     "output_type": "display_data"
    },
    {
     "name": "stderr",
     "output_type": "stream",
     "text": [
      "C:\\Users\\jesus\\AppData\\Local\\Temp\\ipykernel_34428\\3972987981.py:10: FutureWarning: suggest_loguniform has been deprecated in v3.0.0. This feature will be removed in v6.0.0. See https://github.com/optuna/optuna/releases/tag/v3.0.0. Use suggest_float(..., log=True) instead.\n",
      "  'learning_rate'   : trial.suggest_loguniform('learning_rate', 1e-4, 1e-1),\n",
      "C:\\Users\\jesus\\AppData\\Local\\Temp\\ipykernel_34428\\3972987981.py:13: FutureWarning: suggest_loguniform has been deprecated in v3.0.0. This feature will be removed in v6.0.0. See https://github.com/optuna/optuna/releases/tag/v3.0.0. Use suggest_float(..., log=True) instead.\n",
      "  'reg_alpha': trial.suggest_loguniform('reg_alpha', 1e-8, 10.0),\n",
      "C:\\Users\\jesus\\AppData\\Local\\Temp\\ipykernel_34428\\3972987981.py:14: FutureWarning: suggest_loguniform has been deprecated in v3.0.0. This feature will be removed in v6.0.0. See https://github.com/optuna/optuna/releases/tag/v3.0.0. Use suggest_float(..., log=True) instead.\n",
      "  'reg_lambda': trial.suggest_loguniform('reg_lambda', 1e-8, 10.0)\n",
      "C:\\Users\\jesus\\AppData\\Local\\Temp\\ipykernel_34428\\3972987981.py:10: FutureWarning: suggest_loguniform has been deprecated in v3.0.0. This feature will be removed in v6.0.0. See https://github.com/optuna/optuna/releases/tag/v3.0.0. Use suggest_float(..., log=True) instead.\n",
      "  'learning_rate'   : trial.suggest_loguniform('learning_rate', 1e-4, 1e-1),\n",
      "C:\\Users\\jesus\\AppData\\Local\\Temp\\ipykernel_34428\\3972987981.py:13: FutureWarning: suggest_loguniform has been deprecated in v3.0.0. This feature will be removed in v6.0.0. See https://github.com/optuna/optuna/releases/tag/v3.0.0. Use suggest_float(..., log=True) instead.\n",
      "  'reg_alpha': trial.suggest_loguniform('reg_alpha', 1e-8, 10.0),\n",
      "C:\\Users\\jesus\\AppData\\Local\\Temp\\ipykernel_34428\\3972987981.py:14: FutureWarning: suggest_loguniform has been deprecated in v3.0.0. This feature will be removed in v6.0.0. See https://github.com/optuna/optuna/releases/tag/v3.0.0. Use suggest_float(..., log=True) instead.\n",
      "  'reg_lambda': trial.suggest_loguniform('reg_lambda', 1e-8, 10.0)\n",
      "C:\\Users\\jesus\\AppData\\Local\\Temp\\ipykernel_34428\\3972987981.py:10: FutureWarning: suggest_loguniform has been deprecated in v3.0.0. This feature will be removed in v6.0.0. See https://github.com/optuna/optuna/releases/tag/v3.0.0. Use suggest_float(..., log=True) instead.\n",
      "  'learning_rate'   : trial.suggest_loguniform('learning_rate', 1e-4, 1e-1),\n",
      "C:\\Users\\jesus\\AppData\\Local\\Temp\\ipykernel_34428\\3972987981.py:13: FutureWarning: suggest_loguniform has been deprecated in v3.0.0. This feature will be removed in v6.0.0. See https://github.com/optuna/optuna/releases/tag/v3.0.0. Use suggest_float(..., log=True) instead.\n",
      "  'reg_alpha': trial.suggest_loguniform('reg_alpha', 1e-8, 10.0),\n",
      "C:\\Users\\jesus\\AppData\\Local\\Temp\\ipykernel_34428\\3972987981.py:14: FutureWarning: suggest_loguniform has been deprecated in v3.0.0. This feature will be removed in v6.0.0. See https://github.com/optuna/optuna/releases/tag/v3.0.0. Use suggest_float(..., log=True) instead.\n",
      "  'reg_lambda': trial.suggest_loguniform('reg_lambda', 1e-8, 10.0)\n",
      "C:\\Users\\jesus\\AppData\\Local\\Temp\\ipykernel_34428\\3972987981.py:10: FutureWarning: suggest_loguniform has been deprecated in v3.0.0. This feature will be removed in v6.0.0. See https://github.com/optuna/optuna/releases/tag/v3.0.0. Use suggest_float(..., log=True) instead.\n",
      "  'learning_rate'   : trial.suggest_loguniform('learning_rate', 1e-4, 1e-1),\n",
      "C:\\Users\\jesus\\AppData\\Local\\Temp\\ipykernel_34428\\3972987981.py:13: FutureWarning: suggest_loguniform has been deprecated in v3.0.0. This feature will be removed in v6.0.0. See https://github.com/optuna/optuna/releases/tag/v3.0.0. Use suggest_float(..., log=True) instead.\n",
      "  'reg_alpha': trial.suggest_loguniform('reg_alpha', 1e-8, 10.0),\n",
      "C:\\Users\\jesus\\AppData\\Local\\Temp\\ipykernel_34428\\3972987981.py:14: FutureWarning: suggest_loguniform has been deprecated in v3.0.0. This feature will be removed in v6.0.0. See https://github.com/optuna/optuna/releases/tag/v3.0.0. Use suggest_float(..., log=True) instead.\n",
      "  'reg_lambda': trial.suggest_loguniform('reg_lambda', 1e-8, 10.0)\n",
      "C:\\Users\\jesus\\AppData\\Local\\Temp\\ipykernel_34428\\3972987981.py:10: FutureWarning: suggest_loguniform has been deprecated in v3.0.0. This feature will be removed in v6.0.0. See https://github.com/optuna/optuna/releases/tag/v3.0.0. Use suggest_float(..., log=True) instead.\n",
      "  'learning_rate'   : trial.suggest_loguniform('learning_rate', 1e-4, 1e-1),\n",
      "C:\\Users\\jesus\\AppData\\Local\\Temp\\ipykernel_34428\\3972987981.py:13: FutureWarning: suggest_loguniform has been deprecated in v3.0.0. This feature will be removed in v6.0.0. See https://github.com/optuna/optuna/releases/tag/v3.0.0. Use suggest_float(..., log=True) instead.\n",
      "  'reg_alpha': trial.suggest_loguniform('reg_alpha', 1e-8, 10.0),\n",
      "C:\\Users\\jesus\\AppData\\Local\\Temp\\ipykernel_34428\\3972987981.py:14: FutureWarning: suggest_loguniform has been deprecated in v3.0.0. This feature will be removed in v6.0.0. See https://github.com/optuna/optuna/releases/tag/v3.0.0. Use suggest_float(..., log=True) instead.\n",
      "  'reg_lambda': trial.suggest_loguniform('reg_lambda', 1e-8, 10.0)\n",
      "C:\\Users\\jesus\\AppData\\Local\\Temp\\ipykernel_34428\\3972987981.py:10: FutureWarning: suggest_loguniform has been deprecated in v3.0.0. This feature will be removed in v6.0.0. See https://github.com/optuna/optuna/releases/tag/v3.0.0. Use suggest_float(..., log=True) instead.\n",
      "  'learning_rate'   : trial.suggest_loguniform('learning_rate', 1e-4, 1e-1),\n",
      "C:\\Users\\jesus\\AppData\\Local\\Temp\\ipykernel_34428\\3972987981.py:13: FutureWarning: suggest_loguniform has been deprecated in v3.0.0. This feature will be removed in v6.0.0. See https://github.com/optuna/optuna/releases/tag/v3.0.0. Use suggest_float(..., log=True) instead.\n",
      "  'reg_alpha': trial.suggest_loguniform('reg_alpha', 1e-8, 10.0),\n",
      "C:\\Users\\jesus\\AppData\\Local\\Temp\\ipykernel_34428\\3972987981.py:14: FutureWarning: suggest_loguniform has been deprecated in v3.0.0. This feature will be removed in v6.0.0. See https://github.com/optuna/optuna/releases/tag/v3.0.0. Use suggest_float(..., log=True) instead.\n",
      "  'reg_lambda': trial.suggest_loguniform('reg_lambda', 1e-8, 10.0)\n"
     ]
    },
    {
     "data": {
      "application/vnd.jupyter.widget-view+json": {
       "model_id": "8f08a0c8f7cb4c61b5f9f5f0f9fb4832",
       "version_major": 2,
       "version_minor": 0
      },
      "text/plain": [
       "  0%|          | 0/5 [00:00<?, ?it/s]"
      ]
     },
     "metadata": {},
     "output_type": "display_data"
    },
    {
     "name": "stderr",
     "output_type": "stream",
     "text": [
      "C:\\Users\\jesus\\AppData\\Local\\Temp\\ipykernel_34428\\3972987981.py:10: FutureWarning: suggest_loguniform has been deprecated in v3.0.0. This feature will be removed in v6.0.0. See https://github.com/optuna/optuna/releases/tag/v3.0.0. Use suggest_float(..., log=True) instead.\n",
      "  'learning_rate'   : trial.suggest_loguniform('learning_rate', 1e-4, 1e-1),\n",
      "C:\\Users\\jesus\\AppData\\Local\\Temp\\ipykernel_34428\\3972987981.py:13: FutureWarning: suggest_loguniform has been deprecated in v3.0.0. This feature will be removed in v6.0.0. See https://github.com/optuna/optuna/releases/tag/v3.0.0. Use suggest_float(..., log=True) instead.\n",
      "  'reg_alpha': trial.suggest_loguniform('reg_alpha', 1e-8, 10.0),\n",
      "C:\\Users\\jesus\\AppData\\Local\\Temp\\ipykernel_34428\\3972987981.py:14: FutureWarning: suggest_loguniform has been deprecated in v3.0.0. This feature will be removed in v6.0.0. See https://github.com/optuna/optuna/releases/tag/v3.0.0. Use suggest_float(..., log=True) instead.\n",
      "  'reg_lambda': trial.suggest_loguniform('reg_lambda', 1e-8, 10.0)\n",
      "C:\\Users\\jesus\\AppData\\Local\\Temp\\ipykernel_34428\\3972987981.py:10: FutureWarning: suggest_loguniform has been deprecated in v3.0.0. This feature will be removed in v6.0.0. See https://github.com/optuna/optuna/releases/tag/v3.0.0. Use suggest_float(..., log=True) instead.\n",
      "  'learning_rate'   : trial.suggest_loguniform('learning_rate', 1e-4, 1e-1),\n",
      "C:\\Users\\jesus\\AppData\\Local\\Temp\\ipykernel_34428\\3972987981.py:13: FutureWarning: suggest_loguniform has been deprecated in v3.0.0. This feature will be removed in v6.0.0. See https://github.com/optuna/optuna/releases/tag/v3.0.0. Use suggest_float(..., log=True) instead.\n",
      "  'reg_alpha': trial.suggest_loguniform('reg_alpha', 1e-8, 10.0),\n",
      "C:\\Users\\jesus\\AppData\\Local\\Temp\\ipykernel_34428\\3972987981.py:14: FutureWarning: suggest_loguniform has been deprecated in v3.0.0. This feature will be removed in v6.0.0. See https://github.com/optuna/optuna/releases/tag/v3.0.0. Use suggest_float(..., log=True) instead.\n",
      "  'reg_lambda': trial.suggest_loguniform('reg_lambda', 1e-8, 10.0)\n",
      "C:\\Users\\jesus\\AppData\\Local\\Temp\\ipykernel_34428\\3972987981.py:10: FutureWarning: suggest_loguniform has been deprecated in v3.0.0. This feature will be removed in v6.0.0. See https://github.com/optuna/optuna/releases/tag/v3.0.0. Use suggest_float(..., log=True) instead.\n",
      "  'learning_rate'   : trial.suggest_loguniform('learning_rate', 1e-4, 1e-1),\n",
      "C:\\Users\\jesus\\AppData\\Local\\Temp\\ipykernel_34428\\3972987981.py:13: FutureWarning: suggest_loguniform has been deprecated in v3.0.0. This feature will be removed in v6.0.0. See https://github.com/optuna/optuna/releases/tag/v3.0.0. Use suggest_float(..., log=True) instead.\n",
      "  'reg_alpha': trial.suggest_loguniform('reg_alpha', 1e-8, 10.0),\n",
      "C:\\Users\\jesus\\AppData\\Local\\Temp\\ipykernel_34428\\3972987981.py:14: FutureWarning: suggest_loguniform has been deprecated in v3.0.0. This feature will be removed in v6.0.0. See https://github.com/optuna/optuna/releases/tag/v3.0.0. Use suggest_float(..., log=True) instead.\n",
      "  'reg_lambda': trial.suggest_loguniform('reg_lambda', 1e-8, 10.0)\n",
      "C:\\Users\\jesus\\AppData\\Local\\Temp\\ipykernel_34428\\3972987981.py:10: FutureWarning: suggest_loguniform has been deprecated in v3.0.0. This feature will be removed in v6.0.0. See https://github.com/optuna/optuna/releases/tag/v3.0.0. Use suggest_float(..., log=True) instead.\n",
      "  'learning_rate'   : trial.suggest_loguniform('learning_rate', 1e-4, 1e-1),\n",
      "C:\\Users\\jesus\\AppData\\Local\\Temp\\ipykernel_34428\\3972987981.py:13: FutureWarning: suggest_loguniform has been deprecated in v3.0.0. This feature will be removed in v6.0.0. See https://github.com/optuna/optuna/releases/tag/v3.0.0. Use suggest_float(..., log=True) instead.\n",
      "  'reg_alpha': trial.suggest_loguniform('reg_alpha', 1e-8, 10.0),\n",
      "C:\\Users\\jesus\\AppData\\Local\\Temp\\ipykernel_34428\\3972987981.py:14: FutureWarning: suggest_loguniform has been deprecated in v3.0.0. This feature will be removed in v6.0.0. See https://github.com/optuna/optuna/releases/tag/v3.0.0. Use suggest_float(..., log=True) instead.\n",
      "  'reg_lambda': trial.suggest_loguniform('reg_lambda', 1e-8, 10.0)\n",
      "C:\\Users\\jesus\\AppData\\Local\\Temp\\ipykernel_34428\\3972987981.py:10: FutureWarning: suggest_loguniform has been deprecated in v3.0.0. This feature will be removed in v6.0.0. See https://github.com/optuna/optuna/releases/tag/v3.0.0. Use suggest_float(..., log=True) instead.\n",
      "  'learning_rate'   : trial.suggest_loguniform('learning_rate', 1e-4, 1e-1),\n",
      "C:\\Users\\jesus\\AppData\\Local\\Temp\\ipykernel_34428\\3972987981.py:13: FutureWarning: suggest_loguniform has been deprecated in v3.0.0. This feature will be removed in v6.0.0. See https://github.com/optuna/optuna/releases/tag/v3.0.0. Use suggest_float(..., log=True) instead.\n",
      "  'reg_alpha': trial.suggest_loguniform('reg_alpha', 1e-8, 10.0),\n",
      "C:\\Users\\jesus\\AppData\\Local\\Temp\\ipykernel_34428\\3972987981.py:14: FutureWarning: suggest_loguniform has been deprecated in v3.0.0. This feature will be removed in v6.0.0. See https://github.com/optuna/optuna/releases/tag/v3.0.0. Use suggest_float(..., log=True) instead.\n",
      "  'reg_lambda': trial.suggest_loguniform('reg_lambda', 1e-8, 10.0)\n",
      "C:\\Users\\jesus\\AppData\\Local\\Temp\\ipykernel_34428\\3972987981.py:10: FutureWarning: suggest_loguniform has been deprecated in v3.0.0. This feature will be removed in v6.0.0. See https://github.com/optuna/optuna/releases/tag/v3.0.0. Use suggest_float(..., log=True) instead.\n",
      "  'learning_rate'   : trial.suggest_loguniform('learning_rate', 1e-4, 1e-1),\n",
      "C:\\Users\\jesus\\AppData\\Local\\Temp\\ipykernel_34428\\3972987981.py:13: FutureWarning: suggest_loguniform has been deprecated in v3.0.0. This feature will be removed in v6.0.0. See https://github.com/optuna/optuna/releases/tag/v3.0.0. Use suggest_float(..., log=True) instead.\n",
      "  'reg_alpha': trial.suggest_loguniform('reg_alpha', 1e-8, 10.0),\n",
      "C:\\Users\\jesus\\AppData\\Local\\Temp\\ipykernel_34428\\3972987981.py:14: FutureWarning: suggest_loguniform has been deprecated in v3.0.0. This feature will be removed in v6.0.0. See https://github.com/optuna/optuna/releases/tag/v3.0.0. Use suggest_float(..., log=True) instead.\n",
      "  'reg_lambda': trial.suggest_loguniform('reg_lambda', 1e-8, 10.0)\n"
     ]
    },
    {
     "data": {
      "application/vnd.jupyter.widget-view+json": {
       "model_id": "878af0570d184970a99fe43a04a75e57",
       "version_major": 2,
       "version_minor": 0
      },
      "text/plain": [
       "  0%|          | 0/5 [00:00<?, ?it/s]"
      ]
     },
     "metadata": {},
     "output_type": "display_data"
    },
    {
     "name": "stderr",
     "output_type": "stream",
     "text": [
      "C:\\Users\\jesus\\AppData\\Local\\Temp\\ipykernel_34428\\3972987981.py:10: FutureWarning: suggest_loguniform has been deprecated in v3.0.0. This feature will be removed in v6.0.0. See https://github.com/optuna/optuna/releases/tag/v3.0.0. Use suggest_float(..., log=True) instead.\n",
      "  'learning_rate'   : trial.suggest_loguniform('learning_rate', 1e-4, 1e-1),\n",
      "C:\\Users\\jesus\\AppData\\Local\\Temp\\ipykernel_34428\\3972987981.py:13: FutureWarning: suggest_loguniform has been deprecated in v3.0.0. This feature will be removed in v6.0.0. See https://github.com/optuna/optuna/releases/tag/v3.0.0. Use suggest_float(..., log=True) instead.\n",
      "  'reg_alpha': trial.suggest_loguniform('reg_alpha', 1e-8, 10.0),\n",
      "C:\\Users\\jesus\\AppData\\Local\\Temp\\ipykernel_34428\\3972987981.py:14: FutureWarning: suggest_loguniform has been deprecated in v3.0.0. This feature will be removed in v6.0.0. See https://github.com/optuna/optuna/releases/tag/v3.0.0. Use suggest_float(..., log=True) instead.\n",
      "  'reg_lambda': trial.suggest_loguniform('reg_lambda', 1e-8, 10.0)\n",
      "C:\\Users\\jesus\\AppData\\Local\\Temp\\ipykernel_34428\\3972987981.py:10: FutureWarning: suggest_loguniform has been deprecated in v3.0.0. This feature will be removed in v6.0.0. See https://github.com/optuna/optuna/releases/tag/v3.0.0. Use suggest_float(..., log=True) instead.\n",
      "  'learning_rate'   : trial.suggest_loguniform('learning_rate', 1e-4, 1e-1),\n",
      "C:\\Users\\jesus\\AppData\\Local\\Temp\\ipykernel_34428\\3972987981.py:13: FutureWarning: suggest_loguniform has been deprecated in v3.0.0. This feature will be removed in v6.0.0. See https://github.com/optuna/optuna/releases/tag/v3.0.0. Use suggest_float(..., log=True) instead.\n",
      "  'reg_alpha': trial.suggest_loguniform('reg_alpha', 1e-8, 10.0),\n",
      "C:\\Users\\jesus\\AppData\\Local\\Temp\\ipykernel_34428\\3972987981.py:14: FutureWarning: suggest_loguniform has been deprecated in v3.0.0. This feature will be removed in v6.0.0. See https://github.com/optuna/optuna/releases/tag/v3.0.0. Use suggest_float(..., log=True) instead.\n",
      "  'reg_lambda': trial.suggest_loguniform('reg_lambda', 1e-8, 10.0)\n",
      "C:\\Users\\jesus\\AppData\\Local\\Temp\\ipykernel_34428\\3972987981.py:10: FutureWarning: suggest_loguniform has been deprecated in v3.0.0. This feature will be removed in v6.0.0. See https://github.com/optuna/optuna/releases/tag/v3.0.0. Use suggest_float(..., log=True) instead.\n",
      "  'learning_rate'   : trial.suggest_loguniform('learning_rate', 1e-4, 1e-1),\n",
      "C:\\Users\\jesus\\AppData\\Local\\Temp\\ipykernel_34428\\3972987981.py:13: FutureWarning: suggest_loguniform has been deprecated in v3.0.0. This feature will be removed in v6.0.0. See https://github.com/optuna/optuna/releases/tag/v3.0.0. Use suggest_float(..., log=True) instead.\n",
      "  'reg_alpha': trial.suggest_loguniform('reg_alpha', 1e-8, 10.0),\n",
      "C:\\Users\\jesus\\AppData\\Local\\Temp\\ipykernel_34428\\3972987981.py:14: FutureWarning: suggest_loguniform has been deprecated in v3.0.0. This feature will be removed in v6.0.0. See https://github.com/optuna/optuna/releases/tag/v3.0.0. Use suggest_float(..., log=True) instead.\n",
      "  'reg_lambda': trial.suggest_loguniform('reg_lambda', 1e-8, 10.0)\n",
      "C:\\Users\\jesus\\AppData\\Local\\Temp\\ipykernel_34428\\3972987981.py:10: FutureWarning: suggest_loguniform has been deprecated in v3.0.0. This feature will be removed in v6.0.0. See https://github.com/optuna/optuna/releases/tag/v3.0.0. Use suggest_float(..., log=True) instead.\n",
      "  'learning_rate'   : trial.suggest_loguniform('learning_rate', 1e-4, 1e-1),\n",
      "C:\\Users\\jesus\\AppData\\Local\\Temp\\ipykernel_34428\\3972987981.py:13: FutureWarning: suggest_loguniform has been deprecated in v3.0.0. This feature will be removed in v6.0.0. See https://github.com/optuna/optuna/releases/tag/v3.0.0. Use suggest_float(..., log=True) instead.\n",
      "  'reg_alpha': trial.suggest_loguniform('reg_alpha', 1e-8, 10.0),\n",
      "C:\\Users\\jesus\\AppData\\Local\\Temp\\ipykernel_34428\\3972987981.py:14: FutureWarning: suggest_loguniform has been deprecated in v3.0.0. This feature will be removed in v6.0.0. See https://github.com/optuna/optuna/releases/tag/v3.0.0. Use suggest_float(..., log=True) instead.\n",
      "  'reg_lambda': trial.suggest_loguniform('reg_lambda', 1e-8, 10.0)\n",
      "C:\\Users\\jesus\\AppData\\Local\\Temp\\ipykernel_34428\\3972987981.py:10: FutureWarning: suggest_loguniform has been deprecated in v3.0.0. This feature will be removed in v6.0.0. See https://github.com/optuna/optuna/releases/tag/v3.0.0. Use suggest_float(..., log=True) instead.\n",
      "  'learning_rate'   : trial.suggest_loguniform('learning_rate', 1e-4, 1e-1),\n",
      "C:\\Users\\jesus\\AppData\\Local\\Temp\\ipykernel_34428\\3972987981.py:13: FutureWarning: suggest_loguniform has been deprecated in v3.0.0. This feature will be removed in v6.0.0. See https://github.com/optuna/optuna/releases/tag/v3.0.0. Use suggest_float(..., log=True) instead.\n",
      "  'reg_alpha': trial.suggest_loguniform('reg_alpha', 1e-8, 10.0),\n",
      "C:\\Users\\jesus\\AppData\\Local\\Temp\\ipykernel_34428\\3972987981.py:14: FutureWarning: suggest_loguniform has been deprecated in v3.0.0. This feature will be removed in v6.0.0. See https://github.com/optuna/optuna/releases/tag/v3.0.0. Use suggest_float(..., log=True) instead.\n",
      "  'reg_lambda': trial.suggest_loguniform('reg_lambda', 1e-8, 10.0)\n",
      "C:\\Users\\jesus\\AppData\\Local\\Temp\\ipykernel_34428\\3972987981.py:10: FutureWarning: suggest_loguniform has been deprecated in v3.0.0. This feature will be removed in v6.0.0. See https://github.com/optuna/optuna/releases/tag/v3.0.0. Use suggest_float(..., log=True) instead.\n",
      "  'learning_rate'   : trial.suggest_loguniform('learning_rate', 1e-4, 1e-1),\n",
      "C:\\Users\\jesus\\AppData\\Local\\Temp\\ipykernel_34428\\3972987981.py:13: FutureWarning: suggest_loguniform has been deprecated in v3.0.0. This feature will be removed in v6.0.0. See https://github.com/optuna/optuna/releases/tag/v3.0.0. Use suggest_float(..., log=True) instead.\n",
      "  'reg_alpha': trial.suggest_loguniform('reg_alpha', 1e-8, 10.0),\n",
      "C:\\Users\\jesus\\AppData\\Local\\Temp\\ipykernel_34428\\3972987981.py:14: FutureWarning: suggest_loguniform has been deprecated in v3.0.0. This feature will be removed in v6.0.0. See https://github.com/optuna/optuna/releases/tag/v3.0.0. Use suggest_float(..., log=True) instead.\n",
      "  'reg_lambda': trial.suggest_loguniform('reg_lambda', 1e-8, 10.0)\n"
     ]
    },
    {
     "data": {
      "application/vnd.jupyter.widget-view+json": {
       "model_id": "4890d826c71649728ca7fb2e09963ffb",
       "version_major": 2,
       "version_minor": 0
      },
      "text/plain": [
       "  0%|          | 0/5 [00:00<?, ?it/s]"
      ]
     },
     "metadata": {},
     "output_type": "display_data"
    },
    {
     "name": "stderr",
     "output_type": "stream",
     "text": [
      "C:\\Users\\jesus\\AppData\\Local\\Temp\\ipykernel_34428\\3972987981.py:10: FutureWarning: suggest_loguniform has been deprecated in v3.0.0. This feature will be removed in v6.0.0. See https://github.com/optuna/optuna/releases/tag/v3.0.0. Use suggest_float(..., log=True) instead.\n",
      "  'learning_rate'   : trial.suggest_loguniform('learning_rate', 1e-4, 1e-1),\n",
      "C:\\Users\\jesus\\AppData\\Local\\Temp\\ipykernel_34428\\3972987981.py:13: FutureWarning: suggest_loguniform has been deprecated in v3.0.0. This feature will be removed in v6.0.0. See https://github.com/optuna/optuna/releases/tag/v3.0.0. Use suggest_float(..., log=True) instead.\n",
      "  'reg_alpha': trial.suggest_loguniform('reg_alpha', 1e-8, 10.0),\n",
      "C:\\Users\\jesus\\AppData\\Local\\Temp\\ipykernel_34428\\3972987981.py:14: FutureWarning: suggest_loguniform has been deprecated in v3.0.0. This feature will be removed in v6.0.0. See https://github.com/optuna/optuna/releases/tag/v3.0.0. Use suggest_float(..., log=True) instead.\n",
      "  'reg_lambda': trial.suggest_loguniform('reg_lambda', 1e-8, 10.0)\n",
      "C:\\Users\\jesus\\AppData\\Local\\Temp\\ipykernel_34428\\3972987981.py:10: FutureWarning: suggest_loguniform has been deprecated in v3.0.0. This feature will be removed in v6.0.0. See https://github.com/optuna/optuna/releases/tag/v3.0.0. Use suggest_float(..., log=True) instead.\n",
      "  'learning_rate'   : trial.suggest_loguniform('learning_rate', 1e-4, 1e-1),\n",
      "C:\\Users\\jesus\\AppData\\Local\\Temp\\ipykernel_34428\\3972987981.py:13: FutureWarning: suggest_loguniform has been deprecated in v3.0.0. This feature will be removed in v6.0.0. See https://github.com/optuna/optuna/releases/tag/v3.0.0. Use suggest_float(..., log=True) instead.\n",
      "  'reg_alpha': trial.suggest_loguniform('reg_alpha', 1e-8, 10.0),\n",
      "C:\\Users\\jesus\\AppData\\Local\\Temp\\ipykernel_34428\\3972987981.py:14: FutureWarning: suggest_loguniform has been deprecated in v3.0.0. This feature will be removed in v6.0.0. See https://github.com/optuna/optuna/releases/tag/v3.0.0. Use suggest_float(..., log=True) instead.\n",
      "  'reg_lambda': trial.suggest_loguniform('reg_lambda', 1e-8, 10.0)\n",
      "C:\\Users\\jesus\\AppData\\Local\\Temp\\ipykernel_34428\\3972987981.py:10: FutureWarning: suggest_loguniform has been deprecated in v3.0.0. This feature will be removed in v6.0.0. See https://github.com/optuna/optuna/releases/tag/v3.0.0. Use suggest_float(..., log=True) instead.\n",
      "  'learning_rate'   : trial.suggest_loguniform('learning_rate', 1e-4, 1e-1),\n",
      "C:\\Users\\jesus\\AppData\\Local\\Temp\\ipykernel_34428\\3972987981.py:13: FutureWarning: suggest_loguniform has been deprecated in v3.0.0. This feature will be removed in v6.0.0. See https://github.com/optuna/optuna/releases/tag/v3.0.0. Use suggest_float(..., log=True) instead.\n",
      "  'reg_alpha': trial.suggest_loguniform('reg_alpha', 1e-8, 10.0),\n",
      "C:\\Users\\jesus\\AppData\\Local\\Temp\\ipykernel_34428\\3972987981.py:14: FutureWarning: suggest_loguniform has been deprecated in v3.0.0. This feature will be removed in v6.0.0. See https://github.com/optuna/optuna/releases/tag/v3.0.0. Use suggest_float(..., log=True) instead.\n",
      "  'reg_lambda': trial.suggest_loguniform('reg_lambda', 1e-8, 10.0)\n",
      "C:\\Users\\jesus\\AppData\\Local\\Temp\\ipykernel_34428\\3972987981.py:10: FutureWarning: suggest_loguniform has been deprecated in v3.0.0. This feature will be removed in v6.0.0. See https://github.com/optuna/optuna/releases/tag/v3.0.0. Use suggest_float(..., log=True) instead.\n",
      "  'learning_rate'   : trial.suggest_loguniform('learning_rate', 1e-4, 1e-1),\n",
      "C:\\Users\\jesus\\AppData\\Local\\Temp\\ipykernel_34428\\3972987981.py:13: FutureWarning: suggest_loguniform has been deprecated in v3.0.0. This feature will be removed in v6.0.0. See https://github.com/optuna/optuna/releases/tag/v3.0.0. Use suggest_float(..., log=True) instead.\n",
      "  'reg_alpha': trial.suggest_loguniform('reg_alpha', 1e-8, 10.0),\n",
      "C:\\Users\\jesus\\AppData\\Local\\Temp\\ipykernel_34428\\3972987981.py:14: FutureWarning: suggest_loguniform has been deprecated in v3.0.0. This feature will be removed in v6.0.0. See https://github.com/optuna/optuna/releases/tag/v3.0.0. Use suggest_float(..., log=True) instead.\n",
      "  'reg_lambda': trial.suggest_loguniform('reg_lambda', 1e-8, 10.0)\n",
      "C:\\Users\\jesus\\AppData\\Local\\Temp\\ipykernel_34428\\3972987981.py:10: FutureWarning: suggest_loguniform has been deprecated in v3.0.0. This feature will be removed in v6.0.0. See https://github.com/optuna/optuna/releases/tag/v3.0.0. Use suggest_float(..., log=True) instead.\n",
      "  'learning_rate'   : trial.suggest_loguniform('learning_rate', 1e-4, 1e-1),\n",
      "C:\\Users\\jesus\\AppData\\Local\\Temp\\ipykernel_34428\\3972987981.py:13: FutureWarning: suggest_loguniform has been deprecated in v3.0.0. This feature will be removed in v6.0.0. See https://github.com/optuna/optuna/releases/tag/v3.0.0. Use suggest_float(..., log=True) instead.\n",
      "  'reg_alpha': trial.suggest_loguniform('reg_alpha', 1e-8, 10.0),\n",
      "C:\\Users\\jesus\\AppData\\Local\\Temp\\ipykernel_34428\\3972987981.py:14: FutureWarning: suggest_loguniform has been deprecated in v3.0.0. This feature will be removed in v6.0.0. See https://github.com/optuna/optuna/releases/tag/v3.0.0. Use suggest_float(..., log=True) instead.\n",
      "  'reg_lambda': trial.suggest_loguniform('reg_lambda', 1e-8, 10.0)\n",
      "C:\\Users\\jesus\\AppData\\Local\\Temp\\ipykernel_34428\\3972987981.py:10: FutureWarning: suggest_loguniform has been deprecated in v3.0.0. This feature will be removed in v6.0.0. See https://github.com/optuna/optuna/releases/tag/v3.0.0. Use suggest_float(..., log=True) instead.\n",
      "  'learning_rate'   : trial.suggest_loguniform('learning_rate', 1e-4, 1e-1),\n",
      "C:\\Users\\jesus\\AppData\\Local\\Temp\\ipykernel_34428\\3972987981.py:13: FutureWarning: suggest_loguniform has been deprecated in v3.0.0. This feature will be removed in v6.0.0. See https://github.com/optuna/optuna/releases/tag/v3.0.0. Use suggest_float(..., log=True) instead.\n",
      "  'reg_alpha': trial.suggest_loguniform('reg_alpha', 1e-8, 10.0),\n",
      "C:\\Users\\jesus\\AppData\\Local\\Temp\\ipykernel_34428\\3972987981.py:14: FutureWarning: suggest_loguniform has been deprecated in v3.0.0. This feature will be removed in v6.0.0. See https://github.com/optuna/optuna/releases/tag/v3.0.0. Use suggest_float(..., log=True) instead.\n",
      "  'reg_lambda': trial.suggest_loguniform('reg_lambda', 1e-8, 10.0)\n"
     ]
    },
    {
     "data": {
      "application/vnd.jupyter.widget-view+json": {
       "model_id": "90968f4342cf4bc9915e5af956c37526",
       "version_major": 2,
       "version_minor": 0
      },
      "text/plain": [
       "  0%|          | 0/5 [00:00<?, ?it/s]"
      ]
     },
     "metadata": {},
     "output_type": "display_data"
    },
    {
     "name": "stderr",
     "output_type": "stream",
     "text": [
      "C:\\Users\\jesus\\AppData\\Local\\Temp\\ipykernel_34428\\3972987981.py:10: FutureWarning: suggest_loguniform has been deprecated in v3.0.0. This feature will be removed in v6.0.0. See https://github.com/optuna/optuna/releases/tag/v3.0.0. Use suggest_float(..., log=True) instead.\n",
      "  'learning_rate'   : trial.suggest_loguniform('learning_rate', 1e-4, 1e-1),\n",
      "C:\\Users\\jesus\\AppData\\Local\\Temp\\ipykernel_34428\\3972987981.py:13: FutureWarning: suggest_loguniform has been deprecated in v3.0.0. This feature will be removed in v6.0.0. See https://github.com/optuna/optuna/releases/tag/v3.0.0. Use suggest_float(..., log=True) instead.\n",
      "  'reg_alpha': trial.suggest_loguniform('reg_alpha', 1e-8, 10.0),\n",
      "C:\\Users\\jesus\\AppData\\Local\\Temp\\ipykernel_34428\\3972987981.py:14: FutureWarning: suggest_loguniform has been deprecated in v3.0.0. This feature will be removed in v6.0.0. See https://github.com/optuna/optuna/releases/tag/v3.0.0. Use suggest_float(..., log=True) instead.\n",
      "  'reg_lambda': trial.suggest_loguniform('reg_lambda', 1e-8, 10.0)\n",
      "C:\\Users\\jesus\\AppData\\Local\\Temp\\ipykernel_34428\\3972987981.py:10: FutureWarning: suggest_loguniform has been deprecated in v3.0.0. This feature will be removed in v6.0.0. See https://github.com/optuna/optuna/releases/tag/v3.0.0. Use suggest_float(..., log=True) instead.\n",
      "  'learning_rate'   : trial.suggest_loguniform('learning_rate', 1e-4, 1e-1),\n",
      "C:\\Users\\jesus\\AppData\\Local\\Temp\\ipykernel_34428\\3972987981.py:13: FutureWarning: suggest_loguniform has been deprecated in v3.0.0. This feature will be removed in v6.0.0. See https://github.com/optuna/optuna/releases/tag/v3.0.0. Use suggest_float(..., log=True) instead.\n",
      "  'reg_alpha': trial.suggest_loguniform('reg_alpha', 1e-8, 10.0),\n",
      "C:\\Users\\jesus\\AppData\\Local\\Temp\\ipykernel_34428\\3972987981.py:14: FutureWarning: suggest_loguniform has been deprecated in v3.0.0. This feature will be removed in v6.0.0. See https://github.com/optuna/optuna/releases/tag/v3.0.0. Use suggest_float(..., log=True) instead.\n",
      "  'reg_lambda': trial.suggest_loguniform('reg_lambda', 1e-8, 10.0)\n",
      "C:\\Users\\jesus\\AppData\\Local\\Temp\\ipykernel_34428\\3972987981.py:10: FutureWarning: suggest_loguniform has been deprecated in v3.0.0. This feature will be removed in v6.0.0. See https://github.com/optuna/optuna/releases/tag/v3.0.0. Use suggest_float(..., log=True) instead.\n",
      "  'learning_rate'   : trial.suggest_loguniform('learning_rate', 1e-4, 1e-1),\n",
      "C:\\Users\\jesus\\AppData\\Local\\Temp\\ipykernel_34428\\3972987981.py:13: FutureWarning: suggest_loguniform has been deprecated in v3.0.0. This feature will be removed in v6.0.0. See https://github.com/optuna/optuna/releases/tag/v3.0.0. Use suggest_float(..., log=True) instead.\n",
      "  'reg_alpha': trial.suggest_loguniform('reg_alpha', 1e-8, 10.0),\n",
      "C:\\Users\\jesus\\AppData\\Local\\Temp\\ipykernel_34428\\3972987981.py:14: FutureWarning: suggest_loguniform has been deprecated in v3.0.0. This feature will be removed in v6.0.0. See https://github.com/optuna/optuna/releases/tag/v3.0.0. Use suggest_float(..., log=True) instead.\n",
      "  'reg_lambda': trial.suggest_loguniform('reg_lambda', 1e-8, 10.0)\n",
      "C:\\Users\\jesus\\AppData\\Local\\Temp\\ipykernel_34428\\3972987981.py:10: FutureWarning: suggest_loguniform has been deprecated in v3.0.0. This feature will be removed in v6.0.0. See https://github.com/optuna/optuna/releases/tag/v3.0.0. Use suggest_float(..., log=True) instead.\n",
      "  'learning_rate'   : trial.suggest_loguniform('learning_rate', 1e-4, 1e-1),\n",
      "C:\\Users\\jesus\\AppData\\Local\\Temp\\ipykernel_34428\\3972987981.py:13: FutureWarning: suggest_loguniform has been deprecated in v3.0.0. This feature will be removed in v6.0.0. See https://github.com/optuna/optuna/releases/tag/v3.0.0. Use suggest_float(..., log=True) instead.\n",
      "  'reg_alpha': trial.suggest_loguniform('reg_alpha', 1e-8, 10.0),\n",
      "C:\\Users\\jesus\\AppData\\Local\\Temp\\ipykernel_34428\\3972987981.py:14: FutureWarning: suggest_loguniform has been deprecated in v3.0.0. This feature will be removed in v6.0.0. See https://github.com/optuna/optuna/releases/tag/v3.0.0. Use suggest_float(..., log=True) instead.\n",
      "  'reg_lambda': trial.suggest_loguniform('reg_lambda', 1e-8, 10.0)\n",
      "C:\\Users\\jesus\\AppData\\Local\\Temp\\ipykernel_34428\\3972987981.py:10: FutureWarning: suggest_loguniform has been deprecated in v3.0.0. This feature will be removed in v6.0.0. See https://github.com/optuna/optuna/releases/tag/v3.0.0. Use suggest_float(..., log=True) instead.\n",
      "  'learning_rate'   : trial.suggest_loguniform('learning_rate', 1e-4, 1e-1),\n",
      "C:\\Users\\jesus\\AppData\\Local\\Temp\\ipykernel_34428\\3972987981.py:13: FutureWarning: suggest_loguniform has been deprecated in v3.0.0. This feature will be removed in v6.0.0. See https://github.com/optuna/optuna/releases/tag/v3.0.0. Use suggest_float(..., log=True) instead.\n",
      "  'reg_alpha': trial.suggest_loguniform('reg_alpha', 1e-8, 10.0),\n",
      "C:\\Users\\jesus\\AppData\\Local\\Temp\\ipykernel_34428\\3972987981.py:14: FutureWarning: suggest_loguniform has been deprecated in v3.0.0. This feature will be removed in v6.0.0. See https://github.com/optuna/optuna/releases/tag/v3.0.0. Use suggest_float(..., log=True) instead.\n",
      "  'reg_lambda': trial.suggest_loguniform('reg_lambda', 1e-8, 10.0)\n",
      "C:\\Users\\jesus\\AppData\\Local\\Temp\\ipykernel_34428\\3972987981.py:10: FutureWarning: suggest_loguniform has been deprecated in v3.0.0. This feature will be removed in v6.0.0. See https://github.com/optuna/optuna/releases/tag/v3.0.0. Use suggest_float(..., log=True) instead.\n",
      "  'learning_rate'   : trial.suggest_loguniform('learning_rate', 1e-4, 1e-1),\n",
      "C:\\Users\\jesus\\AppData\\Local\\Temp\\ipykernel_34428\\3972987981.py:13: FutureWarning: suggest_loguniform has been deprecated in v3.0.0. This feature will be removed in v6.0.0. See https://github.com/optuna/optuna/releases/tag/v3.0.0. Use suggest_float(..., log=True) instead.\n",
      "  'reg_alpha': trial.suggest_loguniform('reg_alpha', 1e-8, 10.0),\n",
      "C:\\Users\\jesus\\AppData\\Local\\Temp\\ipykernel_34428\\3972987981.py:14: FutureWarning: suggest_loguniform has been deprecated in v3.0.0. This feature will be removed in v6.0.0. See https://github.com/optuna/optuna/releases/tag/v3.0.0. Use suggest_float(..., log=True) instead.\n",
      "  'reg_lambda': trial.suggest_loguniform('reg_lambda', 1e-8, 10.0)\n"
     ]
    },
    {
     "data": {
      "application/vnd.jupyter.widget-view+json": {
       "model_id": "2bcf7e97d12542a69dfc85522c0c6dc1",
       "version_major": 2,
       "version_minor": 0
      },
      "text/plain": [
       "  0%|          | 0/5 [00:00<?, ?it/s]"
      ]
     },
     "metadata": {},
     "output_type": "display_data"
    },
    {
     "name": "stderr",
     "output_type": "stream",
     "text": [
      "C:\\Users\\jesus\\AppData\\Local\\Temp\\ipykernel_34428\\3972987981.py:10: FutureWarning: suggest_loguniform has been deprecated in v3.0.0. This feature will be removed in v6.0.0. See https://github.com/optuna/optuna/releases/tag/v3.0.0. Use suggest_float(..., log=True) instead.\n",
      "  'learning_rate'   : trial.suggest_loguniform('learning_rate', 1e-4, 1e-1),\n",
      "C:\\Users\\jesus\\AppData\\Local\\Temp\\ipykernel_34428\\3972987981.py:13: FutureWarning: suggest_loguniform has been deprecated in v3.0.0. This feature will be removed in v6.0.0. See https://github.com/optuna/optuna/releases/tag/v3.0.0. Use suggest_float(..., log=True) instead.\n",
      "  'reg_alpha': trial.suggest_loguniform('reg_alpha', 1e-8, 10.0),\n",
      "C:\\Users\\jesus\\AppData\\Local\\Temp\\ipykernel_34428\\3972987981.py:14: FutureWarning: suggest_loguniform has been deprecated in v3.0.0. This feature will be removed in v6.0.0. See https://github.com/optuna/optuna/releases/tag/v3.0.0. Use suggest_float(..., log=True) instead.\n",
      "  'reg_lambda': trial.suggest_loguniform('reg_lambda', 1e-8, 10.0)\n",
      "C:\\Users\\jesus\\AppData\\Local\\Temp\\ipykernel_34428\\3972987981.py:10: FutureWarning: suggest_loguniform has been deprecated in v3.0.0. This feature will be removed in v6.0.0. See https://github.com/optuna/optuna/releases/tag/v3.0.0. Use suggest_float(..., log=True) instead.\n",
      "  'learning_rate'   : trial.suggest_loguniform('learning_rate', 1e-4, 1e-1),\n",
      "C:\\Users\\jesus\\AppData\\Local\\Temp\\ipykernel_34428\\3972987981.py:13: FutureWarning: suggest_loguniform has been deprecated in v3.0.0. This feature will be removed in v6.0.0. See https://github.com/optuna/optuna/releases/tag/v3.0.0. Use suggest_float(..., log=True) instead.\n",
      "  'reg_alpha': trial.suggest_loguniform('reg_alpha', 1e-8, 10.0),\n",
      "C:\\Users\\jesus\\AppData\\Local\\Temp\\ipykernel_34428\\3972987981.py:14: FutureWarning: suggest_loguniform has been deprecated in v3.0.0. This feature will be removed in v6.0.0. See https://github.com/optuna/optuna/releases/tag/v3.0.0. Use suggest_float(..., log=True) instead.\n",
      "  'reg_lambda': trial.suggest_loguniform('reg_lambda', 1e-8, 10.0)\n",
      "C:\\Users\\jesus\\AppData\\Local\\Temp\\ipykernel_34428\\3972987981.py:10: FutureWarning: suggest_loguniform has been deprecated in v3.0.0. This feature will be removed in v6.0.0. See https://github.com/optuna/optuna/releases/tag/v3.0.0. Use suggest_float(..., log=True) instead.\n",
      "  'learning_rate'   : trial.suggest_loguniform('learning_rate', 1e-4, 1e-1),\n",
      "C:\\Users\\jesus\\AppData\\Local\\Temp\\ipykernel_34428\\3972987981.py:13: FutureWarning: suggest_loguniform has been deprecated in v3.0.0. This feature will be removed in v6.0.0. See https://github.com/optuna/optuna/releases/tag/v3.0.0. Use suggest_float(..., log=True) instead.\n",
      "  'reg_alpha': trial.suggest_loguniform('reg_alpha', 1e-8, 10.0),\n",
      "C:\\Users\\jesus\\AppData\\Local\\Temp\\ipykernel_34428\\3972987981.py:14: FutureWarning: suggest_loguniform has been deprecated in v3.0.0. This feature will be removed in v6.0.0. See https://github.com/optuna/optuna/releases/tag/v3.0.0. Use suggest_float(..., log=True) instead.\n",
      "  'reg_lambda': trial.suggest_loguniform('reg_lambda', 1e-8, 10.0)\n",
      "C:\\Users\\jesus\\AppData\\Local\\Temp\\ipykernel_34428\\3972987981.py:10: FutureWarning: suggest_loguniform has been deprecated in v3.0.0. This feature will be removed in v6.0.0. See https://github.com/optuna/optuna/releases/tag/v3.0.0. Use suggest_float(..., log=True) instead.\n",
      "  'learning_rate'   : trial.suggest_loguniform('learning_rate', 1e-4, 1e-1),\n",
      "C:\\Users\\jesus\\AppData\\Local\\Temp\\ipykernel_34428\\3972987981.py:13: FutureWarning: suggest_loguniform has been deprecated in v3.0.0. This feature will be removed in v6.0.0. See https://github.com/optuna/optuna/releases/tag/v3.0.0. Use suggest_float(..., log=True) instead.\n",
      "  'reg_alpha': trial.suggest_loguniform('reg_alpha', 1e-8, 10.0),\n",
      "C:\\Users\\jesus\\AppData\\Local\\Temp\\ipykernel_34428\\3972987981.py:14: FutureWarning: suggest_loguniform has been deprecated in v3.0.0. This feature will be removed in v6.0.0. See https://github.com/optuna/optuna/releases/tag/v3.0.0. Use suggest_float(..., log=True) instead.\n",
      "  'reg_lambda': trial.suggest_loguniform('reg_lambda', 1e-8, 10.0)\n",
      "C:\\Users\\jesus\\AppData\\Local\\Temp\\ipykernel_34428\\3972987981.py:10: FutureWarning: suggest_loguniform has been deprecated in v3.0.0. This feature will be removed in v6.0.0. See https://github.com/optuna/optuna/releases/tag/v3.0.0. Use suggest_float(..., log=True) instead.\n",
      "  'learning_rate'   : trial.suggest_loguniform('learning_rate', 1e-4, 1e-1),\n",
      "C:\\Users\\jesus\\AppData\\Local\\Temp\\ipykernel_34428\\3972987981.py:13: FutureWarning: suggest_loguniform has been deprecated in v3.0.0. This feature will be removed in v6.0.0. See https://github.com/optuna/optuna/releases/tag/v3.0.0. Use suggest_float(..., log=True) instead.\n",
      "  'reg_alpha': trial.suggest_loguniform('reg_alpha', 1e-8, 10.0),\n",
      "C:\\Users\\jesus\\AppData\\Local\\Temp\\ipykernel_34428\\3972987981.py:14: FutureWarning: suggest_loguniform has been deprecated in v3.0.0. This feature will be removed in v6.0.0. See https://github.com/optuna/optuna/releases/tag/v3.0.0. Use suggest_float(..., log=True) instead.\n",
      "  'reg_lambda': trial.suggest_loguniform('reg_lambda', 1e-8, 10.0)\n",
      "C:\\Users\\jesus\\AppData\\Local\\Temp\\ipykernel_34428\\3972987981.py:10: FutureWarning: suggest_loguniform has been deprecated in v3.0.0. This feature will be removed in v6.0.0. See https://github.com/optuna/optuna/releases/tag/v3.0.0. Use suggest_float(..., log=True) instead.\n",
      "  'learning_rate'   : trial.suggest_loguniform('learning_rate', 1e-4, 1e-1),\n",
      "C:\\Users\\jesus\\AppData\\Local\\Temp\\ipykernel_34428\\3972987981.py:13: FutureWarning: suggest_loguniform has been deprecated in v3.0.0. This feature will be removed in v6.0.0. See https://github.com/optuna/optuna/releases/tag/v3.0.0. Use suggest_float(..., log=True) instead.\n",
      "  'reg_alpha': trial.suggest_loguniform('reg_alpha', 1e-8, 10.0),\n",
      "C:\\Users\\jesus\\AppData\\Local\\Temp\\ipykernel_34428\\3972987981.py:14: FutureWarning: suggest_loguniform has been deprecated in v3.0.0. This feature will be removed in v6.0.0. See https://github.com/optuna/optuna/releases/tag/v3.0.0. Use suggest_float(..., log=True) instead.\n",
      "  'reg_lambda': trial.suggest_loguniform('reg_lambda', 1e-8, 10.0)\n"
     ]
    },
    {
     "data": {
      "application/vnd.jupyter.widget-view+json": {
       "model_id": "1c5f776297304beaa41b12461d218d07",
       "version_major": 2,
       "version_minor": 0
      },
      "text/plain": [
       "  0%|          | 0/5 [00:00<?, ?it/s]"
      ]
     },
     "metadata": {},
     "output_type": "display_data"
    },
    {
     "name": "stderr",
     "output_type": "stream",
     "text": [
      "C:\\Users\\jesus\\AppData\\Local\\Temp\\ipykernel_34428\\3972987981.py:10: FutureWarning: suggest_loguniform has been deprecated in v3.0.0. This feature will be removed in v6.0.0. See https://github.com/optuna/optuna/releases/tag/v3.0.0. Use suggest_float(..., log=True) instead.\n",
      "  'learning_rate'   : trial.suggest_loguniform('learning_rate', 1e-4, 1e-1),\n",
      "C:\\Users\\jesus\\AppData\\Local\\Temp\\ipykernel_34428\\3972987981.py:13: FutureWarning: suggest_loguniform has been deprecated in v3.0.0. This feature will be removed in v6.0.0. See https://github.com/optuna/optuna/releases/tag/v3.0.0. Use suggest_float(..., log=True) instead.\n",
      "  'reg_alpha': trial.suggest_loguniform('reg_alpha', 1e-8, 10.0),\n",
      "C:\\Users\\jesus\\AppData\\Local\\Temp\\ipykernel_34428\\3972987981.py:14: FutureWarning: suggest_loguniform has been deprecated in v3.0.0. This feature will be removed in v6.0.0. See https://github.com/optuna/optuna/releases/tag/v3.0.0. Use suggest_float(..., log=True) instead.\n",
      "  'reg_lambda': trial.suggest_loguniform('reg_lambda', 1e-8, 10.0)\n",
      "C:\\Users\\jesus\\AppData\\Local\\Temp\\ipykernel_34428\\3972987981.py:10: FutureWarning: suggest_loguniform has been deprecated in v3.0.0. This feature will be removed in v6.0.0. See https://github.com/optuna/optuna/releases/tag/v3.0.0. Use suggest_float(..., log=True) instead.\n",
      "  'learning_rate'   : trial.suggest_loguniform('learning_rate', 1e-4, 1e-1),\n",
      "C:\\Users\\jesus\\AppData\\Local\\Temp\\ipykernel_34428\\3972987981.py:13: FutureWarning: suggest_loguniform has been deprecated in v3.0.0. This feature will be removed in v6.0.0. See https://github.com/optuna/optuna/releases/tag/v3.0.0. Use suggest_float(..., log=True) instead.\n",
      "  'reg_alpha': trial.suggest_loguniform('reg_alpha', 1e-8, 10.0),\n",
      "C:\\Users\\jesus\\AppData\\Local\\Temp\\ipykernel_34428\\3972987981.py:14: FutureWarning: suggest_loguniform has been deprecated in v3.0.0. This feature will be removed in v6.0.0. See https://github.com/optuna/optuna/releases/tag/v3.0.0. Use suggest_float(..., log=True) instead.\n",
      "  'reg_lambda': trial.suggest_loguniform('reg_lambda', 1e-8, 10.0)\n",
      "C:\\Users\\jesus\\AppData\\Local\\Temp\\ipykernel_34428\\3972987981.py:10: FutureWarning: suggest_loguniform has been deprecated in v3.0.0. This feature will be removed in v6.0.0. See https://github.com/optuna/optuna/releases/tag/v3.0.0. Use suggest_float(..., log=True) instead.\n",
      "  'learning_rate'   : trial.suggest_loguniform('learning_rate', 1e-4, 1e-1),\n",
      "C:\\Users\\jesus\\AppData\\Local\\Temp\\ipykernel_34428\\3972987981.py:13: FutureWarning: suggest_loguniform has been deprecated in v3.0.0. This feature will be removed in v6.0.0. See https://github.com/optuna/optuna/releases/tag/v3.0.0. Use suggest_float(..., log=True) instead.\n",
      "  'reg_alpha': trial.suggest_loguniform('reg_alpha', 1e-8, 10.0),\n",
      "C:\\Users\\jesus\\AppData\\Local\\Temp\\ipykernel_34428\\3972987981.py:14: FutureWarning: suggest_loguniform has been deprecated in v3.0.0. This feature will be removed in v6.0.0. See https://github.com/optuna/optuna/releases/tag/v3.0.0. Use suggest_float(..., log=True) instead.\n",
      "  'reg_lambda': trial.suggest_loguniform('reg_lambda', 1e-8, 10.0)\n",
      "C:\\Users\\jesus\\AppData\\Local\\Temp\\ipykernel_34428\\3972987981.py:10: FutureWarning: suggest_loguniform has been deprecated in v3.0.0. This feature will be removed in v6.0.0. See https://github.com/optuna/optuna/releases/tag/v3.0.0. Use suggest_float(..., log=True) instead.\n",
      "  'learning_rate'   : trial.suggest_loguniform('learning_rate', 1e-4, 1e-1),\n",
      "C:\\Users\\jesus\\AppData\\Local\\Temp\\ipykernel_34428\\3972987981.py:13: FutureWarning: suggest_loguniform has been deprecated in v3.0.0. This feature will be removed in v6.0.0. See https://github.com/optuna/optuna/releases/tag/v3.0.0. Use suggest_float(..., log=True) instead.\n",
      "  'reg_alpha': trial.suggest_loguniform('reg_alpha', 1e-8, 10.0),\n",
      "C:\\Users\\jesus\\AppData\\Local\\Temp\\ipykernel_34428\\3972987981.py:14: FutureWarning: suggest_loguniform has been deprecated in v3.0.0. This feature will be removed in v6.0.0. See https://github.com/optuna/optuna/releases/tag/v3.0.0. Use suggest_float(..., log=True) instead.\n",
      "  'reg_lambda': trial.suggest_loguniform('reg_lambda', 1e-8, 10.0)\n",
      "C:\\Users\\jesus\\AppData\\Local\\Temp\\ipykernel_34428\\3972987981.py:10: FutureWarning: suggest_loguniform has been deprecated in v3.0.0. This feature will be removed in v6.0.0. See https://github.com/optuna/optuna/releases/tag/v3.0.0. Use suggest_float(..., log=True) instead.\n",
      "  'learning_rate'   : trial.suggest_loguniform('learning_rate', 1e-4, 1e-1),\n",
      "C:\\Users\\jesus\\AppData\\Local\\Temp\\ipykernel_34428\\3972987981.py:13: FutureWarning: suggest_loguniform has been deprecated in v3.0.0. This feature will be removed in v6.0.0. See https://github.com/optuna/optuna/releases/tag/v3.0.0. Use suggest_float(..., log=True) instead.\n",
      "  'reg_alpha': trial.suggest_loguniform('reg_alpha', 1e-8, 10.0),\n",
      "C:\\Users\\jesus\\AppData\\Local\\Temp\\ipykernel_34428\\3972987981.py:14: FutureWarning: suggest_loguniform has been deprecated in v3.0.0. This feature will be removed in v6.0.0. See https://github.com/optuna/optuna/releases/tag/v3.0.0. Use suggest_float(..., log=True) instead.\n",
      "  'reg_lambda': trial.suggest_loguniform('reg_lambda', 1e-8, 10.0)\n",
      "C:\\Users\\jesus\\AppData\\Local\\Temp\\ipykernel_34428\\3972987981.py:10: FutureWarning: suggest_loguniform has been deprecated in v3.0.0. This feature will be removed in v6.0.0. See https://github.com/optuna/optuna/releases/tag/v3.0.0. Use suggest_float(..., log=True) instead.\n",
      "  'learning_rate'   : trial.suggest_loguniform('learning_rate', 1e-4, 1e-1),\n",
      "C:\\Users\\jesus\\AppData\\Local\\Temp\\ipykernel_34428\\3972987981.py:13: FutureWarning: suggest_loguniform has been deprecated in v3.0.0. This feature will be removed in v6.0.0. See https://github.com/optuna/optuna/releases/tag/v3.0.0. Use suggest_float(..., log=True) instead.\n",
      "  'reg_alpha': trial.suggest_loguniform('reg_alpha', 1e-8, 10.0),\n",
      "C:\\Users\\jesus\\AppData\\Local\\Temp\\ipykernel_34428\\3972987981.py:14: FutureWarning: suggest_loguniform has been deprecated in v3.0.0. This feature will be removed in v6.0.0. See https://github.com/optuna/optuna/releases/tag/v3.0.0. Use suggest_float(..., log=True) instead.\n",
      "  'reg_lambda': trial.suggest_loguniform('reg_lambda', 1e-8, 10.0)\n"
     ]
    },
    {
     "data": {
      "application/vnd.jupyter.widget-view+json": {
       "model_id": "353cc85b31744ec19710ac160b681777",
       "version_major": 2,
       "version_minor": 0
      },
      "text/plain": [
       "  0%|          | 0/5 [00:00<?, ?it/s]"
      ]
     },
     "metadata": {},
     "output_type": "display_data"
    },
    {
     "name": "stderr",
     "output_type": "stream",
     "text": [
      "C:\\Users\\jesus\\AppData\\Local\\Temp\\ipykernel_34428\\3972987981.py:10: FutureWarning: suggest_loguniform has been deprecated in v3.0.0. This feature will be removed in v6.0.0. See https://github.com/optuna/optuna/releases/tag/v3.0.0. Use suggest_float(..., log=True) instead.\n",
      "  'learning_rate'   : trial.suggest_loguniform('learning_rate', 1e-4, 1e-1),\n",
      "C:\\Users\\jesus\\AppData\\Local\\Temp\\ipykernel_34428\\3972987981.py:13: FutureWarning: suggest_loguniform has been deprecated in v3.0.0. This feature will be removed in v6.0.0. See https://github.com/optuna/optuna/releases/tag/v3.0.0. Use suggest_float(..., log=True) instead.\n",
      "  'reg_alpha': trial.suggest_loguniform('reg_alpha', 1e-8, 10.0),\n",
      "C:\\Users\\jesus\\AppData\\Local\\Temp\\ipykernel_34428\\3972987981.py:14: FutureWarning: suggest_loguniform has been deprecated in v3.0.0. This feature will be removed in v6.0.0. See https://github.com/optuna/optuna/releases/tag/v3.0.0. Use suggest_float(..., log=True) instead.\n",
      "  'reg_lambda': trial.suggest_loguniform('reg_lambda', 1e-8, 10.0)\n",
      "C:\\Users\\jesus\\AppData\\Local\\Temp\\ipykernel_34428\\3972987981.py:10: FutureWarning: suggest_loguniform has been deprecated in v3.0.0. This feature will be removed in v6.0.0. See https://github.com/optuna/optuna/releases/tag/v3.0.0. Use suggest_float(..., log=True) instead.\n",
      "  'learning_rate'   : trial.suggest_loguniform('learning_rate', 1e-4, 1e-1),\n",
      "C:\\Users\\jesus\\AppData\\Local\\Temp\\ipykernel_34428\\3972987981.py:13: FutureWarning: suggest_loguniform has been deprecated in v3.0.0. This feature will be removed in v6.0.0. See https://github.com/optuna/optuna/releases/tag/v3.0.0. Use suggest_float(..., log=True) instead.\n",
      "  'reg_alpha': trial.suggest_loguniform('reg_alpha', 1e-8, 10.0),\n",
      "C:\\Users\\jesus\\AppData\\Local\\Temp\\ipykernel_34428\\3972987981.py:14: FutureWarning: suggest_loguniform has been deprecated in v3.0.0. This feature will be removed in v6.0.0. See https://github.com/optuna/optuna/releases/tag/v3.0.0. Use suggest_float(..., log=True) instead.\n",
      "  'reg_lambda': trial.suggest_loguniform('reg_lambda', 1e-8, 10.0)\n",
      "C:\\Users\\jesus\\AppData\\Local\\Temp\\ipykernel_34428\\3972987981.py:10: FutureWarning: suggest_loguniform has been deprecated in v3.0.0. This feature will be removed in v6.0.0. See https://github.com/optuna/optuna/releases/tag/v3.0.0. Use suggest_float(..., log=True) instead.\n",
      "  'learning_rate'   : trial.suggest_loguniform('learning_rate', 1e-4, 1e-1),\n",
      "C:\\Users\\jesus\\AppData\\Local\\Temp\\ipykernel_34428\\3972987981.py:13: FutureWarning: suggest_loguniform has been deprecated in v3.0.0. This feature will be removed in v6.0.0. See https://github.com/optuna/optuna/releases/tag/v3.0.0. Use suggest_float(..., log=True) instead.\n",
      "  'reg_alpha': trial.suggest_loguniform('reg_alpha', 1e-8, 10.0),\n",
      "C:\\Users\\jesus\\AppData\\Local\\Temp\\ipykernel_34428\\3972987981.py:14: FutureWarning: suggest_loguniform has been deprecated in v3.0.0. This feature will be removed in v6.0.0. See https://github.com/optuna/optuna/releases/tag/v3.0.0. Use suggest_float(..., log=True) instead.\n",
      "  'reg_lambda': trial.suggest_loguniform('reg_lambda', 1e-8, 10.0)\n",
      "C:\\Users\\jesus\\AppData\\Local\\Temp\\ipykernel_34428\\3972987981.py:10: FutureWarning: suggest_loguniform has been deprecated in v3.0.0. This feature will be removed in v6.0.0. See https://github.com/optuna/optuna/releases/tag/v3.0.0. Use suggest_float(..., log=True) instead.\n",
      "  'learning_rate'   : trial.suggest_loguniform('learning_rate', 1e-4, 1e-1),\n",
      "C:\\Users\\jesus\\AppData\\Local\\Temp\\ipykernel_34428\\3972987981.py:13: FutureWarning: suggest_loguniform has been deprecated in v3.0.0. This feature will be removed in v6.0.0. See https://github.com/optuna/optuna/releases/tag/v3.0.0. Use suggest_float(..., log=True) instead.\n",
      "  'reg_alpha': trial.suggest_loguniform('reg_alpha', 1e-8, 10.0),\n",
      "C:\\Users\\jesus\\AppData\\Local\\Temp\\ipykernel_34428\\3972987981.py:14: FutureWarning: suggest_loguniform has been deprecated in v3.0.0. This feature will be removed in v6.0.0. See https://github.com/optuna/optuna/releases/tag/v3.0.0. Use suggest_float(..., log=True) instead.\n",
      "  'reg_lambda': trial.suggest_loguniform('reg_lambda', 1e-8, 10.0)\n",
      "C:\\Users\\jesus\\AppData\\Local\\Temp\\ipykernel_34428\\3972987981.py:10: FutureWarning: suggest_loguniform has been deprecated in v3.0.0. This feature will be removed in v6.0.0. See https://github.com/optuna/optuna/releases/tag/v3.0.0. Use suggest_float(..., log=True) instead.\n",
      "  'learning_rate'   : trial.suggest_loguniform('learning_rate', 1e-4, 1e-1),\n",
      "C:\\Users\\jesus\\AppData\\Local\\Temp\\ipykernel_34428\\3972987981.py:13: FutureWarning: suggest_loguniform has been deprecated in v3.0.0. This feature will be removed in v6.0.0. See https://github.com/optuna/optuna/releases/tag/v3.0.0. Use suggest_float(..., log=True) instead.\n",
      "  'reg_alpha': trial.suggest_loguniform('reg_alpha', 1e-8, 10.0),\n",
      "C:\\Users\\jesus\\AppData\\Local\\Temp\\ipykernel_34428\\3972987981.py:14: FutureWarning: suggest_loguniform has been deprecated in v3.0.0. This feature will be removed in v6.0.0. See https://github.com/optuna/optuna/releases/tag/v3.0.0. Use suggest_float(..., log=True) instead.\n",
      "  'reg_lambda': trial.suggest_loguniform('reg_lambda', 1e-8, 10.0)\n",
      "C:\\Users\\jesus\\AppData\\Local\\Temp\\ipykernel_34428\\3972987981.py:10: FutureWarning: suggest_loguniform has been deprecated in v3.0.0. This feature will be removed in v6.0.0. See https://github.com/optuna/optuna/releases/tag/v3.0.0. Use suggest_float(..., log=True) instead.\n",
      "  'learning_rate'   : trial.suggest_loguniform('learning_rate', 1e-4, 1e-1),\n",
      "C:\\Users\\jesus\\AppData\\Local\\Temp\\ipykernel_34428\\3972987981.py:13: FutureWarning: suggest_loguniform has been deprecated in v3.0.0. This feature will be removed in v6.0.0. See https://github.com/optuna/optuna/releases/tag/v3.0.0. Use suggest_float(..., log=True) instead.\n",
      "  'reg_alpha': trial.suggest_loguniform('reg_alpha', 1e-8, 10.0),\n",
      "C:\\Users\\jesus\\AppData\\Local\\Temp\\ipykernel_34428\\3972987981.py:14: FutureWarning: suggest_loguniform has been deprecated in v3.0.0. This feature will be removed in v6.0.0. See https://github.com/optuna/optuna/releases/tag/v3.0.0. Use suggest_float(..., log=True) instead.\n",
      "  'reg_lambda': trial.suggest_loguniform('reg_lambda', 1e-8, 10.0)\n"
     ]
    },
    {
     "data": {
      "application/vnd.jupyter.widget-view+json": {
       "model_id": "2b49ac9f469d4064bf527f6ea79fabde",
       "version_major": 2,
       "version_minor": 0
      },
      "text/plain": [
       "  0%|          | 0/5 [00:00<?, ?it/s]"
      ]
     },
     "metadata": {},
     "output_type": "display_data"
    },
    {
     "name": "stderr",
     "output_type": "stream",
     "text": [
      "C:\\Users\\jesus\\AppData\\Local\\Temp\\ipykernel_34428\\3972987981.py:10: FutureWarning: suggest_loguniform has been deprecated in v3.0.0. This feature will be removed in v6.0.0. See https://github.com/optuna/optuna/releases/tag/v3.0.0. Use suggest_float(..., log=True) instead.\n",
      "  'learning_rate'   : trial.suggest_loguniform('learning_rate', 1e-4, 1e-1),\n",
      "C:\\Users\\jesus\\AppData\\Local\\Temp\\ipykernel_34428\\3972987981.py:13: FutureWarning: suggest_loguniform has been deprecated in v3.0.0. This feature will be removed in v6.0.0. See https://github.com/optuna/optuna/releases/tag/v3.0.0. Use suggest_float(..., log=True) instead.\n",
      "  'reg_alpha': trial.suggest_loguniform('reg_alpha', 1e-8, 10.0),\n",
      "C:\\Users\\jesus\\AppData\\Local\\Temp\\ipykernel_34428\\3972987981.py:14: FutureWarning: suggest_loguniform has been deprecated in v3.0.0. This feature will be removed in v6.0.0. See https://github.com/optuna/optuna/releases/tag/v3.0.0. Use suggest_float(..., log=True) instead.\n",
      "  'reg_lambda': trial.suggest_loguniform('reg_lambda', 1e-8, 10.0)\n",
      "C:\\Users\\jesus\\AppData\\Local\\Temp\\ipykernel_34428\\3972987981.py:10: FutureWarning: suggest_loguniform has been deprecated in v3.0.0. This feature will be removed in v6.0.0. See https://github.com/optuna/optuna/releases/tag/v3.0.0. Use suggest_float(..., log=True) instead.\n",
      "  'learning_rate'   : trial.suggest_loguniform('learning_rate', 1e-4, 1e-1),\n",
      "C:\\Users\\jesus\\AppData\\Local\\Temp\\ipykernel_34428\\3972987981.py:13: FutureWarning: suggest_loguniform has been deprecated in v3.0.0. This feature will be removed in v6.0.0. See https://github.com/optuna/optuna/releases/tag/v3.0.0. Use suggest_float(..., log=True) instead.\n",
      "  'reg_alpha': trial.suggest_loguniform('reg_alpha', 1e-8, 10.0),\n",
      "C:\\Users\\jesus\\AppData\\Local\\Temp\\ipykernel_34428\\3972987981.py:14: FutureWarning: suggest_loguniform has been deprecated in v3.0.0. This feature will be removed in v6.0.0. See https://github.com/optuna/optuna/releases/tag/v3.0.0. Use suggest_float(..., log=True) instead.\n",
      "  'reg_lambda': trial.suggest_loguniform('reg_lambda', 1e-8, 10.0)\n"
     ]
    }
   ],
   "source": [
    "# Bayesian search hyperparameters and lags with Optuna\n",
    "modelos_pruebas = {}\n",
    "# ==============================================================================\n",
    "def search_space(trial):\n",
    "    search_space  = {\n",
    "        'lags'            : trial.suggest_categorical('lags', [6, 12, 14]),\n",
    "        'n_estimators'    : trial.suggest_int('n_estimators', 10, 25),\n",
    "        'min_samples_leaf': trial.suggest_int('min_samples_leaf', 1., 10),\n",
    "        'max_features'    : trial.suggest_categorical('max_features', ['log2', 'sqrt']),\n",
    "        'learning_rate'   : trial.suggest_loguniform('learning_rate', 1e-4, 1e-1),\n",
    "        'num_leaves': trial.suggest_int('num_leaves', 70, 160),\n",
    "        'max_depth': trial.suggest_int('max_depth', -1, 15),  # -1 for no limit\n",
    "        'reg_alpha': trial.suggest_loguniform('reg_alpha', 1e-8, 10.0),\n",
    "        'reg_lambda': trial.suggest_loguniform('reg_lambda', 1e-8, 10.0)\n",
    "\n",
    "    }\n",
    "\n",
    "    return search_space\n",
    "\n",
    "def r_squared(y_true, y_pred):\n",
    "    return 1 - r2_score(y_true, y_pred)\n",
    "\n",
    "for level in df.filter(regex=(\"PM2.5\")).columns:\n",
    "    forecaster = ForecasterAutoregMultiVariate(\n",
    "                    regressor = LGBMRegressor(random_state=123, verbose=-1),\n",
    "                    level     = level, #cambiar nivel a predecir \n",
    "                    lags      = 24,\n",
    "                    steps     = 6\n",
    "                )\n",
    "    \n",
    "    results, best_trial = bayesian_search_forecaster_multiseries(\n",
    "                            forecaster            = forecaster,\n",
    "                            series                = df,\n",
    "                            exog                  = exog, \n",
    "                            search_space          = search_space,\n",
    "                            steps                 = 6,\n",
    "                            metric                = [r_squared, 'mean_absolute_error', 'mean_squared_error', 'mean_absolute_percentage_error' ],\n",
    "                            # aggregate_metric      = 'weighted_average',\n",
    "                            refit                 = False, #Se reentrena cada 3 folds\n",
    "                            initial_train_size    = len(data_train),\n",
    "                            fixed_train_size      = False,\n",
    "                            n_trials              = 5,\n",
    "                            random_state          = 123,\n",
    "                            return_best           = False,\n",
    "                            n_jobs                = 'auto',\n",
    "                            verbose               = False,\n",
    "                            show_progress         = True,\n",
    "                            engine                = 'optuna',\n",
    "                            kwargs_create_study   = {},\n",
    "                            kwargs_study_optimize = {}\n",
    "                            # output_file=\"results_\" + level + \".txt\"\n",
    "                        )\n",
    "    modelos_pruebas[level] = results\n",
    "    results.head(4)"
   ]
  },
  {
   "cell_type": "markdown",
   "metadata": {},
   "source": [
    "## CODIGO MUESTRA DE MODELOS DISTINTOS"
   ]
  },
  {
   "cell_type": "code",
   "execution_count": null,
   "metadata": {},
   "outputs": [],
   "source": [
    "# Hyperparameter search and backtesting of each item's model\n",
    "# ======================================================================================\n",
    "items = []\n",
    "mae_values  = []\n",
    "dictes = {}\n",
    "\n",
    "lags_grid = [7, 14, 21]\n",
    "param_grid = {\n",
    "    'max_iter': [100, 500],\n",
    "    'max_depth': [3, 5, 10],\n",
    "    'learning_rate': [0.01, 0.1]\n",
    "}\n",
    "\n",
    "for i, item in enumerate(data.columns):\n",
    "\n",
    "    forecaster = ForecasterAutoreg(\n",
    "                     regressor     = HistGradientBoostingRegressor(random_state=123),\n",
    "                     lags          = 14,\n",
    "                     transformer_y = StandardScaler()\n",
    "                 )\n",
    "\n",
    "    results_grid = grid_search_forecaster(\n",
    "                       forecaster         = forecaster,\n",
    "                       y                  = data.loc[:end_val, item],\n",
    "                       lags_grid          = lags_grid,\n",
    "                       param_grid         = param_grid,\n",
    "                       steps              = 7,\n",
    "                       exog=exog.loc[:end_val, :],\n",
    "                       metric             = \"mean_absolute_error\",\n",
    "                       initial_train_size = len(data_train),\n",
    "                       refit              = False,\n",
    "                       fixed_train_size   = False,\n",
    "                       return_best        = True,\n",
    "                       verbose            = False,\n",
    "                       show_progress      = False \n",
    "                  )\n",
    "\n",
    "    metric, preds = backtesting_forecaster(\n",
    "                        forecaster         = forecaster,\n",
    "                        y                  = data[item],\n",
    "                        exog=exog,\n",
    "                        initial_train_size = len(data_train) + len(data_val),\n",
    "                        steps              = 7,\n",
    "                        metric             = \"mean_absolute_error\",\n",
    "                        refit              = False,\n",
    "                        fixed_train_size   = False,\n",
    "                        verbose            = False,\n",
    "                        show_progress      = False\n",
    "                    )\n",
    "\n",
    "    items.append(item)\n",
    "    mae_values.append(metric)\n",
    "    dictes[item] = results_grid\n",
    "    \n",
    "\n",
    "uni_series_mae = pd.Series(\n",
    "                     data  = mae_values,\n",
    "                     index = items,\n",
    "                     name  = 'uni_series_mae'\n",
    "                 )"
   ]
  },
  {
   "cell_type": "markdown",
   "metadata": {},
   "source": [
    "# Forecaster multi-variate to model each region together"
   ]
  },
  {
   "cell_type": "code",
   "execution_count": 56,
   "metadata": {},
   "outputs": [],
   "source": [
    "sureste = df.filter(regex=(\"SURESTE\")).columns"
   ]
  },
  {
   "cell_type": "code",
   "execution_count": null,
   "metadata": {},
   "outputs": [],
   "source": [
    "sureste"
   ]
  },
  {
   "cell_type": "code",
   "execution_count": null,
   "metadata": {},
   "outputs": [],
   "source": [
    "# Bayesian search hyperparameters and lags with Optuna\n",
    "# ==============================================================================\n",
    "forecaster = ForecasterAutoregMultiVariate(\n",
    "                 regressor = LGBMRegressor(random_state=123, verbose=-1),\n",
    "                 level     = 'SURESTE PM2.5 (UG/M3)',\n",
    "                 lags      = 24,\n",
    "                 steps     = 6\n",
    "             )\n",
    "\n",
    "# Search space\n",
    "def search_space(trial):\n",
    "    search_space  = {\n",
    "        'lags'            : trial.suggest_categorical('lags', [7, 14]),\n",
    "        'n_estimators'    : trial.suggest_int('n_estimators', 10, 20),\n",
    "        'min_samples_leaf': trial.suggest_int('min_samples_leaf', 1., 10),\n",
    "        'max_features'    : trial.suggest_categorical('max_features', ['log2', 'sqrt'])\n",
    "    }\n",
    "\n",
    "    return search_space\n",
    "\n",
    "results, best_trial = bayesian_search_forecaster_multiseries(\n",
    "                          forecaster            = forecaster,\n",
    "                          series                = df[sureste],\n",
    "                          exog                  = exog, \n",
    "                          search_space          = search_space,\n",
    "                          steps                 = 6,\n",
    "                          metric                = ['mean_absolute_error', 'mean_squared_error', 'mean_absolute_percentage_error' ],\n",
    "                          aggregate_metric      = 'weighted_average',\n",
    "                          refit                 = 3, #Se reentrena cada 3 folds\n",
    "                          initial_train_size    = len(data_train),\n",
    "                          fixed_train_size      = False,\n",
    "                          n_trials              = 5,\n",
    "                          random_state          = 123,\n",
    "                          return_best           = False,\n",
    "                          n_jobs                = 'auto',\n",
    "                          verbose               = True,\n",
    "                          show_progress         = True,\n",
    "                          engine                = 'optuna',\n",
    "                          kwargs_create_study   = {},\n",
    "                          kwargs_study_optimize = {}\n",
    "                      )\n",
    "results.head(4)"
   ]
  },
  {
   "cell_type": "markdown",
   "metadata": {},
   "source": [
    "Obtener una tabla con R^2,  MSE, RSME"
   ]
  },
  {
   "cell_type": "markdown",
   "metadata": {},
   "source": [
    "# Se hará un modelo por region"
   ]
  },
  {
   "cell_type": "markdown",
   "metadata": {},
   "source": [
    "Se puede guardar cada modelo en un csv, que puede ser releido para usarse en el futuro, pero es recomendable reentrenar cada mes"
   ]
  },
  {
   "cell_type": "markdown",
   "metadata": {},
   "source": [
    "Se crea un dataframe con cada uno de los parametros necesarios"
   ]
  },
  {
   "cell_type": "code",
   "execution_count": 21,
   "metadata": {},
   "outputs": [],
   "source": []
  },
  {
   "cell_type": "markdown",
   "metadata": {},
   "source": [
    "Se entrena cada modelo y se predice para una semana y para un mes, se guarda en un dataframe cada predicción"
   ]
  },
  {
   "cell_type": "code",
   "execution_count": 68,
   "metadata": {},
   "outputs": [],
   "source": [
    "#Get each first part of the column name\n",
    "regions = df.columns.str.split(\" \").str[0].unique()"
   ]
  },
  {
   "cell_type": "code",
   "execution_count": null,
   "metadata": {},
   "outputs": [],
   "source": [
    "for region in regions:\n",
    "    # Create and fit forecaster MultiVariate\n",
    "    # ==============================================================================\n",
    "    forecaster = ForecasterAutoregMultiVariate(\n",
    "                    regressor          = LGBMRegressor(random_state=123, verbose=-1),\n",
    "                    level              = 'SURESTE PM2.5 (UG/M3)', #Hay que hacer que cambie de SURESTE a SURESTE 2, 3 y cada region tiene sus propios numeros\n",
    "                    lags               = 21,\n",
    "                    steps              = 6,\n",
    "                    transformer_series = StandardScaler(),\n",
    "                    transformer_exog   = None,\n",
    "                    weight_func        = None,\n",
    "                    n_jobs             = 'auto'\n",
    "                    min_samples_leaf   = 9,\n",
    "                    n_estimators       = 10,\n",
    "                    max_features       = 'log2'\n",
    "                    \n",
    "                )\n",
    "\n",
    "    forecaster.fit(series=data_train.filter(regex=(region)), exog=exog_train)\n",
    "    predictions = forecaster.predict(steps=6, last_window=data_val.filter(regex=(region)), exog=exog_val)\n",
    "    "
   ]
  },
  {
   "cell_type": "code",
   "execution_count": 50,
   "metadata": {},
   "outputs": [],
   "source": [
    "    # Create and fit forecaster MultiVariate\n",
    "    # ==============================================================================\n",
    "forecaster = ForecasterAutoregMultiVariate(\n",
    "                regressor          = LGBMRegressor(random_state=123, verbose=-1),\n",
    "                level              = 'SURESTE PM2.5 (UG/M3)', #Hay que hacer que cambie de SURESTE a SURESTE 2, 3 y cada region tiene sus propios numeros\n",
    "                lags               = 14,\n",
    "                steps              = 12,\n",
    "                transformer_series = StandardScaler(),\n",
    "                transformer_exog   = None,\n",
    "                weight_func        = None,\n",
    "                n_jobs             = 'auto'\n",
    "                    \n",
    "            )\n",
    "\n",
    "forecaster.fit(series=data_train.filter(regex=(\"SURESTE\")), exog=exog_train)\n"
   ]
  },
  {
   "cell_type": "code",
   "execution_count": 51,
   "metadata": {},
   "outputs": [],
   "source": [
    "predictions = forecaster.predict(steps=12,exog=exog_val.loc[\"2024-03-01 00:00:00\":])\n"
   ]
  },
  {
   "cell_type": "markdown",
   "metadata": {},
   "source": [
    "Puede predecir 6 horas\n",
    "\n",
    "2024-07-31 05:00:00"
   ]
  },
  {
   "cell_type": "code",
   "execution_count": 30,
   "metadata": {},
   "outputs": [
    {
     "data": {
      "text/html": [
       "<div>\n",
       "<style scoped>\n",
       "    .dataframe tbody tr th:only-of-type {\n",
       "        vertical-align: middle;\n",
       "    }\n",
       "\n",
       "    .dataframe tbody tr th {\n",
       "        vertical-align: top;\n",
       "    }\n",
       "\n",
       "    .dataframe thead th {\n",
       "        text-align: right;\n",
       "    }\n",
       "</style>\n",
       "<table border=\"1\" class=\"dataframe\">\n",
       "  <thead>\n",
       "    <tr style=\"text-align: right;\">\n",
       "      <th></th>\n",
       "      <th>SURESTE PM2.5 (UG/M3)</th>\n",
       "    </tr>\n",
       "  </thead>\n",
       "  <tbody>\n",
       "    <tr>\n",
       "      <th>2024-03-01 00:00:00</th>\n",
       "      <td>17.033942</td>\n",
       "    </tr>\n",
       "    <tr>\n",
       "      <th>2024-03-01 01:00:00</th>\n",
       "      <td>15.941695</td>\n",
       "    </tr>\n",
       "    <tr>\n",
       "      <th>2024-03-01 02:00:00</th>\n",
       "      <td>15.698637</td>\n",
       "    </tr>\n",
       "    <tr>\n",
       "      <th>2024-03-01 03:00:00</th>\n",
       "      <td>17.126116</td>\n",
       "    </tr>\n",
       "    <tr>\n",
       "      <th>2024-03-01 04:00:00</th>\n",
       "      <td>15.643313</td>\n",
       "    </tr>\n",
       "    <tr>\n",
       "      <th>2024-03-01 05:00:00</th>\n",
       "      <td>16.590759</td>\n",
       "    </tr>\n",
       "  </tbody>\n",
       "</table>\n",
       "</div>"
      ],
      "text/plain": [
       "                     SURESTE PM2.5 (UG/M3)\n",
       "2024-03-01 00:00:00              17.033942\n",
       "2024-03-01 01:00:00              15.941695\n",
       "2024-03-01 02:00:00              15.698637\n",
       "2024-03-01 03:00:00              17.126116\n",
       "2024-03-01 04:00:00              15.643313\n",
       "2024-03-01 05:00:00              16.590759"
      ]
     },
     "execution_count": 30,
     "metadata": {},
     "output_type": "execute_result"
    }
   ],
   "source": [
    "predictions"
   ]
  },
  {
   "cell_type": "code",
   "execution_count": 52,
   "metadata": {},
   "outputs": [
    {
     "data": {
      "text/html": [
       "<div>\n",
       "<style scoped>\n",
       "    .dataframe tbody tr th:only-of-type {\n",
       "        vertical-align: middle;\n",
       "    }\n",
       "\n",
       "    .dataframe tbody tr th {\n",
       "        vertical-align: top;\n",
       "    }\n",
       "\n",
       "    .dataframe thead th {\n",
       "        text-align: right;\n",
       "    }\n",
       "</style>\n",
       "<table border=\"1\" class=\"dataframe\">\n",
       "  <thead>\n",
       "    <tr style=\"text-align: right;\">\n",
       "      <th></th>\n",
       "      <th>SURESTE PM2.5 (UG/M3)</th>\n",
       "    </tr>\n",
       "    <tr>\n",
       "      <th>FECHA</th>\n",
       "      <th></th>\n",
       "    </tr>\n",
       "  </thead>\n",
       "  <tbody>\n",
       "    <tr>\n",
       "      <th>2024-03-01 00:00:00</th>\n",
       "      <td>18.287877</td>\n",
       "    </tr>\n",
       "    <tr>\n",
       "      <th>2024-03-01 01:00:00</th>\n",
       "      <td>15.000000</td>\n",
       "    </tr>\n",
       "    <tr>\n",
       "      <th>2024-03-01 02:00:00</th>\n",
       "      <td>14.000000</td>\n",
       "    </tr>\n",
       "    <tr>\n",
       "      <th>2024-03-01 03:00:00</th>\n",
       "      <td>15.000000</td>\n",
       "    </tr>\n",
       "    <tr>\n",
       "      <th>2024-03-01 04:00:00</th>\n",
       "      <td>15.000000</td>\n",
       "    </tr>\n",
       "    <tr>\n",
       "      <th>2024-03-01 05:00:00</th>\n",
       "      <td>16.000000</td>\n",
       "    </tr>\n",
       "    <tr>\n",
       "      <th>2024-03-01 06:00:00</th>\n",
       "      <td>19.000000</td>\n",
       "    </tr>\n",
       "    <tr>\n",
       "      <th>2024-03-01 07:00:00</th>\n",
       "      <td>22.000000</td>\n",
       "    </tr>\n",
       "    <tr>\n",
       "      <th>2024-03-01 08:00:00</th>\n",
       "      <td>24.000000</td>\n",
       "    </tr>\n",
       "    <tr>\n",
       "      <th>2024-03-01 09:00:00</th>\n",
       "      <td>30.000000</td>\n",
       "    </tr>\n",
       "    <tr>\n",
       "      <th>2024-03-01 10:00:00</th>\n",
       "      <td>40.000000</td>\n",
       "    </tr>\n",
       "    <tr>\n",
       "      <th>2024-03-01 11:00:00</th>\n",
       "      <td>40.000000</td>\n",
       "    </tr>\n",
       "  </tbody>\n",
       "</table>\n",
       "</div>"
      ],
      "text/plain": [
       "                     SURESTE PM2.5 (UG/M3)\n",
       "FECHA                                     \n",
       "2024-03-01 00:00:00              18.287877\n",
       "2024-03-01 01:00:00              15.000000\n",
       "2024-03-01 02:00:00              14.000000\n",
       "2024-03-01 03:00:00              15.000000\n",
       "2024-03-01 04:00:00              15.000000\n",
       "2024-03-01 05:00:00              16.000000\n",
       "2024-03-01 06:00:00              19.000000\n",
       "2024-03-01 07:00:00              22.000000\n",
       "2024-03-01 08:00:00              24.000000\n",
       "2024-03-01 09:00:00              30.000000\n",
       "2024-03-01 10:00:00              40.000000\n",
       "2024-03-01 11:00:00              40.000000"
      ]
     },
     "execution_count": 52,
     "metadata": {},
     "output_type": "execute_result"
    }
   ],
   "source": [
    "# Get the models stats\n",
    "data_val.filter(regex=(\"SURESTE PM2.5\")).loc[\"2024-03-01\"].head(12)"
   ]
  },
  {
   "cell_type": "code",
   "execution_count": 53,
   "metadata": {},
   "outputs": [
    {
     "name": "stdout",
     "output_type": "stream",
     "text": [
      "R^2: 0.4099763148337019\n",
      "RMSE: 6.956588344307862\n",
      "MAE: 3.906903141382457\n",
      "MAPE: 0.12314507501120897\n"
     ]
    },
    {
     "name": "stderr",
     "output_type": "stream",
     "text": [
      "c:\\Users\\progra.DESKTOP-GV4Q93K\\miniconda3\\envs\\personal\\Lib\\site-packages\\sklearn\\metrics\\_regression.py:492: FutureWarning: 'squared' is deprecated in version 1.4 and will be removed in 1.6. To calculate the root mean squared error, use the function'root_mean_squared_error'.\n",
      "  warnings.warn(\n"
     ]
    }
   ],
   "source": [
    "# Get the R^2, RMSE, MAE and MAPE\n",
    "r2 = r2_score(data_val.filter(regex=(\"SURESTE PM2.5\")).loc[\"2024-03-01\"].head(12), predictions)\n",
    "rmse = mean_squared_error(data_val.filter(regex=(\"SURESTE PM2.5\")).loc[\"2024-03-01\"].head(12), predictions, squared=False)\n",
    "mae = mean_absolute_error(data_val.filter(regex=(\"SURESTE PM2.5\")).loc[\"2024-03-01\"].head(12), predictions)\n",
    "mape = mean_absolute_percentage_error(data_val.filter(regex=(\"SURESTE PM2.5\")).loc[\"2024-03-01\"].head(12), predictions)\n",
    "\n",
    "print(f\"R^2: {r2}\")\n",
    "print(f\"RMSE: {rmse}\")\n",
    "print(f\"MAE: {mae}\")\n",
    "print(f\"MAPE: {mape}\")\n"
   ]
  },
  {
   "cell_type": "code",
   "execution_count": 54,
   "metadata": {},
   "outputs": [
    {
     "data": {
      "text/plain": [
       "<matplotlib.legend.Legend at 0x247052f10d0>"
      ]
     },
     "execution_count": 54,
     "metadata": {},
     "output_type": "execute_result"
    },
    {
     "data": {
      "image/png": "[encoded data removed]",
      "text/plain": [
       "<Figure size 640x480 with 1 Axes>"
      ]
     },
     "metadata": {},
     "output_type": "display_data"
    }
   ],
   "source": [
    "# Plot the predicted, vs real\n",
    "plt.plot(data_val.filter(regex=(\"SURESTE PM2.5\")).loc[\"2024-03-01\"].head(12), label=\"Real\")\n",
    "plt.plot(predictions, label=\"Predicted\")\n",
    "plt.legend()"
   ]
  },
  {
   "cell_type": "markdown",
   "metadata": {},
   "source": [
    "# Modelo con datos de una sola estacion"
   ]
  },
  {
   "cell_type": "code",
   "execution_count": 55,
   "metadata": {},
   "outputs": [],
   "source": [
    "    # Create and fit forecaster MultiVariate\n",
    "    # ==============================================================================\n",
    "forecaster = ForecasterAutoregMultiVariate(\n",
    "                regressor          = LGBMRegressor(random_state=123, verbose=-1),\n",
    "                level              = 'SURESTE PM2.5 (UG/M3)', #Hay que hacer que cambie de SURESTE a SURESTE 2, 3 y cada region tiene sus propios numeros\n",
    "                lags               = 14,\n",
    "                steps              = 12,\n",
    "                transformer_series = StandardScaler(),\n",
    "                transformer_exog   = None,\n",
    "                weight_func        = None,\n",
    "                n_jobs             = 'auto',\n",
    "                    \n",
    "            )\n",
    "\n",
    "forecaster.fit(data_train.filter(regex=(\"SURESTE(?! 2| 3)\")), exog=exog_train)"
   ]
  },
  {
   "cell_type": "code",
   "execution_count": 56,
   "metadata": {},
   "outputs": [
    {
     "data": {
      "text/html": [
       "<div>\n",
       "<style scoped>\n",
       "    .dataframe tbody tr th:only-of-type {\n",
       "        vertical-align: middle;\n",
       "    }\n",
       "\n",
       "    .dataframe tbody tr th {\n",
       "        vertical-align: top;\n",
       "    }\n",
       "\n",
       "    .dataframe thead th {\n",
       "        text-align: right;\n",
       "    }\n",
       "</style>\n",
       "<table border=\"1\" class=\"dataframe\">\n",
       "  <thead>\n",
       "    <tr style=\"text-align: right;\">\n",
       "      <th></th>\n",
       "      <th>SURESTE PM2.5 (UG/M3)</th>\n",
       "    </tr>\n",
       "  </thead>\n",
       "  <tbody>\n",
       "    <tr>\n",
       "      <th>2024-03-01 00:00:00</th>\n",
       "      <td>16.736356</td>\n",
       "    </tr>\n",
       "    <tr>\n",
       "      <th>2024-03-01 01:00:00</th>\n",
       "      <td>16.338487</td>\n",
       "    </tr>\n",
       "    <tr>\n",
       "      <th>2024-03-01 02:00:00</th>\n",
       "      <td>16.329758</td>\n",
       "    </tr>\n",
       "    <tr>\n",
       "      <th>2024-03-01 03:00:00</th>\n",
       "      <td>16.928768</td>\n",
       "    </tr>\n",
       "    <tr>\n",
       "      <th>2024-03-01 04:00:00</th>\n",
       "      <td>16.184626</td>\n",
       "    </tr>\n",
       "    <tr>\n",
       "      <th>2024-03-01 05:00:00</th>\n",
       "      <td>18.644283</td>\n",
       "    </tr>\n",
       "    <tr>\n",
       "      <th>2024-03-01 06:00:00</th>\n",
       "      <td>16.842215</td>\n",
       "    </tr>\n",
       "    <tr>\n",
       "      <th>2024-03-01 07:00:00</th>\n",
       "      <td>20.887210</td>\n",
       "    </tr>\n",
       "    <tr>\n",
       "      <th>2024-03-01 08:00:00</th>\n",
       "      <td>20.088968</td>\n",
       "    </tr>\n",
       "    <tr>\n",
       "      <th>2024-03-01 09:00:00</th>\n",
       "      <td>21.145663</td>\n",
       "    </tr>\n",
       "    <tr>\n",
       "      <th>2024-03-01 10:00:00</th>\n",
       "      <td>23.827458</td>\n",
       "    </tr>\n",
       "    <tr>\n",
       "      <th>2024-03-01 11:00:00</th>\n",
       "      <td>23.130607</td>\n",
       "    </tr>\n",
       "  </tbody>\n",
       "</table>\n",
       "</div>"
      ],
      "text/plain": [
       "                     SURESTE PM2.5 (UG/M3)\n",
       "2024-03-01 00:00:00              16.736356\n",
       "2024-03-01 01:00:00              16.338487\n",
       "2024-03-01 02:00:00              16.329758\n",
       "2024-03-01 03:00:00              16.928768\n",
       "2024-03-01 04:00:00              16.184626\n",
       "2024-03-01 05:00:00              18.644283\n",
       "2024-03-01 06:00:00              16.842215\n",
       "2024-03-01 07:00:00              20.887210\n",
       "2024-03-01 08:00:00              20.088968\n",
       "2024-03-01 09:00:00              21.145663\n",
       "2024-03-01 10:00:00              23.827458\n",
       "2024-03-01 11:00:00              23.130607"
      ]
     },
     "execution_count": 56,
     "metadata": {},
     "output_type": "execute_result"
    }
   ],
   "source": [
    "predictions = forecaster.predict(steps=12, exog=exog_val.loc[\"2024-03-01 00:00:00\":])\n",
    "predictions\n"
   ]
  },
  {
   "cell_type": "code",
   "execution_count": 57,
   "metadata": {},
   "outputs": [
    {
     "name": "stdout",
     "output_type": "stream",
     "text": [
      "R^2: 0.32185812339974573\n",
      "RMSE: 7.4579911515389705\n",
      "MAE: 5.004610060834536\n",
      "MAPE: 0.1801342778142503\n"
     ]
    },
    {
     "name": "stderr",
     "output_type": "stream",
     "text": [
      "c:\\Users\\progra.DESKTOP-GV4Q93K\\miniconda3\\envs\\personal\\Lib\\site-packages\\sklearn\\metrics\\_regression.py:492: FutureWarning: 'squared' is deprecated in version 1.4 and will be removed in 1.6. To calculate the root mean squared error, use the function'root_mean_squared_error'.\n",
      "  warnings.warn(\n"
     ]
    }
   ],
   "source": [
    "# Get the R^2, RMSE, MAE and MAPE\n",
    "r2 = r2_score(data_val.filter(regex=(\"SURESTE PM2.5\")).loc[\"2024-03-01\"].head(12), predictions)\n",
    "rmse = mean_squared_error(data_val.filter(regex=(\"SURESTE PM2.5\")).loc[\"2024-03-01\"].head(12), predictions, squared=False)\n",
    "mae = mean_absolute_error(data_val.filter(regex=(\"SURESTE PM2.5\")).loc[\"2024-03-01\"].head(12), predictions)\n",
    "mape = mean_absolute_percentage_error(data_val.filter(regex=(\"SURESTE PM2.5\")).loc[\"2024-03-01\"].head(12), predictions)\n",
    "\n",
    "print(f\"R^2: {r2}\")\n",
    "print(f\"RMSE: {rmse}\")\n",
    "print(f\"MAE: {mae}\")\n",
    "print(f\"MAPE: {mape}\")"
   ]
  },
  {
   "cell_type": "code",
   "execution_count": 58,
   "metadata": {},
   "outputs": [
    {
     "data": {
      "text/plain": [
       "<matplotlib.legend.Legend at 0x24700007710>"
      ]
     },
     "execution_count": 58,
     "metadata": {},
     "output_type": "execute_result"
    },
    {
     "data": {
      "image/png": "[encoded data removed]",
      "text/plain": [
       "<Figure size 640x480 with 1 Axes>"
      ]
     },
     "metadata": {},
     "output_type": "display_data"
    }
   ],
   "source": [
    "# Plot the predicted, vs real\n",
    "plt.plot(data_val.filter(regex=(\"SURESTE PM2.5\")).loc[\"2024-03-01\"].head(12), label=\"Real\")\n",
    "plt.plot(predictions, label=\"Predicted\")\n",
    "plt.legend()"
   ]
  },
  {
   "cell_type": "markdown",
   "metadata": {},
   "source": [
    "# Modelo con todos los datos"
   ]
  },
  {
   "cell_type": "code",
   "execution_count": 60,
   "metadata": {},
   "outputs": [],
   "source": [
    "    # Create and fit forecaster MultiVariate\n",
    "    # ==============================================================================\n",
    "forecaster = ForecasterAutoregMultiVariate(\n",
    "                regressor          = LGBMRegressor(random_state=123, verbose=-1),\n",
    "                level              = 'SURESTE PM2.5 (UG/M3)', #Hay que hacer que cambie de SURESTE a SURESTE 2, 3 y cada region tiene sus propios numeros\n",
    "                lags               = 32,\n",
    "                steps              = 18,\n",
    "                transformer_series = StandardScaler(),\n",
    "                transformer_exog   = None,\n",
    "                weight_func        = None,\n",
    "                n_jobs             = 'auto',\n",
    "                    \n",
    "            )\n",
    "\n",
    "forecaster.fit(data_train, exog=exog_train)"
   ]
  },
  {
   "cell_type": "code",
   "execution_count": 61,
   "metadata": {},
   "outputs": [],
   "source": [
    "predictions = forecaster.predict(steps=18, exog=exog_val.loc[\"2024-03-01 00:00:00\":])"
   ]
  },
  {
   "cell_type": "code",
   "execution_count": 62,
   "metadata": {},
   "outputs": [
    {
     "name": "stdout",
     "output_type": "stream",
     "text": [
      "R^2: 0.6172253891793503\n",
      "RMSE: 5.603161543417696\n",
      "MAE: 4.218212972460105\n",
      "MAPE: 0.17048186712217514\n"
     ]
    },
    {
     "name": "stderr",
     "output_type": "stream",
     "text": [
      "c:\\Users\\progra.DESKTOP-GV4Q93K\\miniconda3\\envs\\personal\\Lib\\site-packages\\sklearn\\metrics\\_regression.py:492: FutureWarning: 'squared' is deprecated in version 1.4 and will be removed in 1.6. To calculate the root mean squared error, use the function'root_mean_squared_error'.\n",
      "  warnings.warn(\n"
     ]
    }
   ],
   "source": [
    "# Get the R^2, RMSE, MAE and MAPE\n",
    "r2 = r2_score(data_val.filter(regex=(\"SURESTE PM2.5\")).loc[\"2024-03-01\"].head(18), predictions)\n",
    "rmse = mean_squared_error(data_val.filter(regex=(\"SURESTE PM2.5\")).loc[\"2024-03-01\"].head(18), predictions, squared=False)\n",
    "mae = mean_absolute_error(data_val.filter(regex=(\"SURESTE PM2.5\")).loc[\"2024-03-01\"].head(18), predictions)\n",
    "mape = mean_absolute_percentage_error(data_val.filter(regex=(\"SURESTE PM2.5\")).loc[\"2024-03-01\"].head(18), predictions)\n",
    "\n",
    "print(f\"R^2: {r2}\")\n",
    "print(f\"RMSE: {rmse}\")\n",
    "print(f\"MAE: {mae}\")\n",
    "print(f\"MAPE: {mape}\")"
   ]
  },
  {
   "cell_type": "code",
   "execution_count": 63,
   "metadata": {},
   "outputs": [
    {
     "data": {
      "text/plain": [
       "<matplotlib.legend.Legend at 0x2470004afd0>"
      ]
     },
     "execution_count": 63,
     "metadata": {},
     "output_type": "execute_result"
    },
    {
     "data": {
      "image/png": "[encoded data removed]",
      "text/plain": [
       "<Figure size 640x480 with 1 Axes>"
      ]
     },
     "metadata": {},
     "output_type": "display_data"
    }
   ],
   "source": [
    "# Plot the predicted, vs real\n",
    "plt.plot(data_val.filter(regex=(\"SURESTE PM2.5\")).loc[\"2024-03-01\"].head(18), label=\"Real\")\n",
    "plt.plot(predictions, label=\"Predicted\")\n",
    "plt.legend()"
   ]
  },
  {
   "cell_type": "code",
   "execution_count": null,
   "metadata": {},
   "outputs": [],
   "source": [
    "plt.plot(data_val.filter(regex=(\"SURESTE PM2.5\")).loc[\"2024-02-01\":].head(36), label=\"Real\")\n",
    "plt.plot(predictions, label=\"Predicted\")\n",
    "plt.legend()"
   ]
  },
  {
   "cell_type": "code",
   "execution_count": 32,
   "metadata": {},
   "outputs": [],
   "source": [
    "for i in models.index:\n",
    "    forecaster = ForecasterAutoreg(\n",
    "                     regressor     = HistGradientBoostingRegressor(random_state=123, max_depth=models.loc[i,\"max_depth\"], max_iter=models.loc[i,\"max_iter\"], learning_rate=models.loc[i,\"learning_rate\"]),\n",
    "                     lags          = [models.loc[i,\"lags\"].max()],\n",
    "                     transformer_y = StandardScaler()\n",
    "                 )\n",
    "    forecaster.fit(y=data.loc[:\"2023-11-30\",i], exog=exog.loc[:\"2023-11-30\", :])\n",
    "    month_pred[i] = forecaster.predict(steps=31, exog=exog.loc[\"2023-12-01\":])\n",
    "    week_pred[i] = forecaster.predict(steps=8, exog=exog.loc[\"2023-12-01\":])"
   ]
  },
  {
   "cell_type": "markdown",
   "metadata": {},
   "source": [
    "Se ayuda un poco al modelo dado que los valores negativos no existen en los productos"
   ]
  },
  {
   "cell_type": "markdown",
   "metadata": {},
   "source": [
    "Se consiguen las estadisticas que tiene el modelo para predecir durante un mes y durante una semana"
   ]
  },
  {
   "cell_type": "code",
   "execution_count": null,
   "metadata": {},
   "outputs": [],
   "source": [
    "stats_mes = pd.DataFrame()\n",
    "for i in month_pred.columns:\n",
    "    y_pred = month_pred[i]\n",
    "    y_test = data.loc[\"2023-12-01\":\"2023-12-31\",i]\n",
    "    mae = mean_absolute_error(y_true=y_test, y_pred=y_pred)\n",
    "    mape = mean_absolute_percentage_error(y_true=y_test, y_pred=y_pred)\n",
    "    mse = mean_squared_error(y_true=y_test, y_pred=y_pred)\n",
    "    r2 = r2_score(y_true=y_test, y_pred=y_pred)\n",
    "    mape2 = abs((y_pred - y_test)/y_test).replace([np.inf, -np.inf], np.log(0.9999999999999999999999999)).dropna().sum()/30\n",
    "    mape3 = (np.abs((y_test - y_pred)/np.where(y_test==0, 1, y_test))).mean()\n",
    "    smape = 1/len(y_test) * np.sum(2*np.abs(y_pred - y_test)/(np.abs(y_pred) + np.abs(y_test))*100)\n",
    "    valor_real = y_test.sum()\n",
    "    valor_pred = y_pred.sum()\n",
    "    error = (valor_real - valor_pred)/valor_real\n",
    "    error_semanal = error/4 * 100\n",
    "    stats_mes = pd.concat([stats_mes, pd.DataFrame({\"Producto\":i, \"MAE\":mae, \"MSE\":mse, \"R2\":r2, \"SMAPE\": smape,\"MAPE lib\":mape,\"MAPE2\":mape2,\"MAPE3\":mape3, \"valor real\": \n",
    "        valor_real, \"valor predecido\": valor_pred, \"error\":error*100, \"error por semana\": error_semanal}, index=[0])], axis=0)\n",
    "stats_mes"
   ]
  },
  {
   "cell_type": "code",
   "execution_count": null,
   "metadata": {},
   "outputs": [],
   "source": [
    "stats_semana = pd.DataFrame()\n",
    "for i in month_pred.columns:\n",
    "    y_pred = week_pred[i]\n",
    "    y_test = data.loc[\"2023-12-01\":\"2023-12-8\",i]\n",
    "    mae = mean_absolute_error(y_true=y_test, y_pred=y_pred)\n",
    "    mape = mean_absolute_percentage_error(y_true=y_test, y_pred=y_pred)\n",
    "    mse = mean_squared_error(y_true=y_test, y_pred=y_pred)\n",
    "    r2 = r2_score(y_true=y_test, y_pred=y_pred)\n",
    "    mape2 = abs((y_pred - y_test)/y_test).replace([np.inf, -np.inf], np.log(0.9999999999999999999999999)).dropna().sum()/30\n",
    "    mape3 = (np.abs((y_test - y_pred)/np.where(y_test==0, 1, y_test))).mean()\n",
    "    smape = 1/len(y_test) * np.sum(2*np.abs(y_pred - y_test)/(np.abs(y_pred) + np.abs(y_test))*100)\n",
    "    valor_real = y_test.sum()\n",
    "    valor_pred = y_pred.sum()\n",
    "    error = (valor_real - valor_pred)/valor_real *100\n",
    "    stats_semana = pd.concat([stats_semana, pd.DataFrame({\"Producto\":i, \"MAE\":mae, \"MSE\":mse, \"R2\":r2, \"SMAPE\": smape,\"MAPE lib\":mape,\"MAPE2\":mape2,\"MAPE3\":mape3, \"valor real\": \n",
    "        valor_real, \"valor predecido\": valor_pred, \"error\":error}, index=[0])], axis=0)\n",
    "stats_semana"
   ]
  },
  {
   "cell_type": "code",
   "execution_count": null,
   "metadata": {},
   "outputs": [],
   "source": [
    "#Save figure#\n",
    "for i in month_pred.columns:\n",
    "    fig, ax=plt.subplots(figsize=(7, 3))\n",
    "    month_pred[i].plot(ax=ax,color='red', linestyle='--', label='Predicciones')\n",
    "    data.loc[\"2023-12-01\":\"2023-12-31\",i].plot(ax=ax,color='blue', linestyle='-', label='Valores reales')\n",
    "    ax.set_title(i)\n",
    "    ax.legend()\n",
    "    ax.set_ylabel('Ventas')\n",
    "    ax.set_xlabel('Fecha')\n",
    "    #plt.savefig(f\"pred_mensual_{i}.png\")\n",
    "    "
   ]
  },
  {
   "cell_type": "markdown",
   "metadata": {},
   "source": [
    "## Agregar modelo del otro producto y comparar"
   ]
  },
  {
   "cell_type": "code",
   "execution_count": null,
   "metadata": {},
   "outputs": [],
   "source": [
    "for i in week_pred.columns:\n",
    "    fig, ax=plt.subplots(figsize=(7, 3))\n",
    "    week_pred[i].plot(ax=ax,color='#ECA24E', linestyle='--', label='Predicciones', linewidth=2.5)\n",
    "    data.loc[\"2023-12-01\":\"2023-12-08\",i].plot(ax=ax,color='#1f93cf', linestyle='-', label='Valores reales', linewidth=2.5)\n",
    "    ax.set_title(i, color = 'white')\n",
    "    ax.set_facecolor('#0e4588')\n",
    "    ax.grid(color='white')\n",
    "    #ax.tick_params(axis='x', colors='white')\n",
    "    #ax.spines['bottom'].set_color('white')\n",
    "    #ax.spines['top'].set_color('white')\n",
    "    #ax.xaxis.label.set_color('white')\n",
    "    #ax.tick_params(axis='x', colors='white', labelsize = 10, which = 'major')\n",
    "    fig.set_facecolor('#1f93cf')\n",
    "    ax.set_ylabel('Ventas',color='white') \n",
    "    ax.set_xlabel('Fecha',color='white')\n",
    "    plt.xticks(color='white', weight='bold')\n",
    "    plt.yticks(color='white', weight='bold')\n",
    "    #plt.legend(color='white')\n",
    "    ax.legend()"
   ]
  },
  {
   "cell_type": "code",
   "execution_count": null,
   "metadata": {},
   "outputs": [],
   "source": [
    "resid = data[\"Producto 0\"].loc[\"2023-10-21\":\"2023-10-28\"] - predicts"
   ]
  },
  {
   "cell_type": "code",
   "execution_count": null,
   "metadata": {},
   "outputs": [],
   "source": [
    "week_pred.to_csv(\"predicciones_semanales_HGB.csv\")\n",
    "month_pred.to_csv(\"predicciones_mensuales_HGB.csv\")\n",
    "data.to_csv(\"datatop20.csv\")"
   ]
  },
  {
   "cell_type": "code",
   "execution_count": null,
   "metadata": {},
   "outputs": [],
   "source": []
  }
 ],
 "metadata": {
  "kernelspec": {
   "display_name": "personal",
   "language": "python",
   "name": "python3"
  },
  "language_info": {
   "codemirror_mode": {
    "name": "ipython",
    "version": 3
   },
   "file_extension": ".py",
   "mimetype": "text/x-python",
   "name": "python",
   "nbconvert_exporter": "python",
   "pygments_lexer": "ipython3",
   "version": "3.11.9"
  }
 },
 "nbformat": 4,
 "nbformat_minor": 2
}
