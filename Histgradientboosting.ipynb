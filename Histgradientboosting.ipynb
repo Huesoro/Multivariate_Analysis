{
 "cells": [
  {
   "cell_type": "code",
   "execution_count": 24,
   "metadata": {},
   "outputs": [],
   "source": [
    "import numpy as np\n",
    "import pandas as pd\n",
    "import matplotlib.pyplot as plt\n",
    "from sklearn.preprocessing import StandardScaler\n",
    "from sklearn.linear_model import Ridge\n",
    "from lightgbm import LGBMRegressor\n",
    "from sklearn.metrics import mean_absolute_error\n",
    "\n",
    "from skforecast.ForecasterAutoregMultiVariate import ForecasterAutoregMultiVariate\n",
    "from skforecast.model_selection_multiseries import backtesting_forecaster_multiseries\n",
    "from skforecast.model_selection_multiseries import grid_search_forecaster_multiseries\n",
    "from skforecast.model_selection_multiseries import random_search_forecaster_multiseries\n",
    "from skforecast.model_selection_multiseries import bayesian_search_forecaster_multiseries"
   ]
  },
  {
   "cell_type": "markdown",
   "metadata": {},
   "source": [
    "# Se transforman los datos, se crean variables exogenas y se coloca la columna datetime como indice"
   ]
  },
  {
   "cell_type": "code",
   "execution_count": 25,
   "metadata": {},
   "outputs": [],
   "source": [
    "df = pd.read_csv(\"df_time_serie_2022.csv\")\n",
    "df.FECHA = pd.to_datetime(df.FECHA)\n",
    "df.set_index(\"FECHA\", inplace=True)\n"
   ]
  },
  {
   "cell_type": "markdown",
   "metadata": {},
   "source": [
    "# Se eliminan las columnas de más, de igual manera se eliminan los productos con menos de 50 ventas en 2023"
   ]
  },
  {
   "cell_type": "code",
   "execution_count": 26,
   "metadata": {},
   "outputs": [],
   "source": [
    "df[\"Dia de la semana\"] = df.index.dayofweek"
   ]
  },
  {
   "cell_type": "code",
   "execution_count": 29,
   "metadata": {},
   "outputs": [],
   "source": [
    "exog = df[[\"Dia de la semana\",\"Mes\", \"Dia\", \"Hora\"]]\n",
    "df.drop(columns=[\"Dia de la semana\",\"Mes\", \"Dia\", \"Hora\"], inplace=True)"
   ]
  },
  {
   "cell_type": "code",
   "execution_count": null,
   "metadata": {},
   "outputs": [],
   "source": [
    "#Agregar dia del mes\n",
    "\n",
    "\n",
    "exog[\"Dia del mes\"] = exog.index.day\n",
    "#Convertir a dummies dia de la semana y mes\n",
    "exog = pd.get_dummies(exog, columns=[\"Dia de la semana\",\"Mes\"])"
   ]
  },
  {
   "cell_type": "code",
   "execution_count": null,
   "metadata": {},
   "outputs": [],
   "source": [
    "#Convert the days and hour to cos\n",
    "exog[\"hour_cos\"] = np.cos(2*np.pi*exog[\"Hora\"]/24)\n",
    "exog[\"day_cos\"] = np.cos(2*np.pi*exog[\"Dia del mes\"]/31)\n",
    "exog[\"Dia del año\"] = np.cos(2*np.pi*exog[\"Dia\"]/7)\n",
    "#drop\n",
    "exog.drop(columns=[\"Hora\",\"Dia del mes\",\"Dia\"], inplace=True)\n",
    "exog"
   ]
  },
  {
   "cell_type": "code",
   "execution_count": null,
   "metadata": {},
   "outputs": [],
   "source": [
    "df = df.asfreq(\"h\")"
   ]
  },
  {
   "cell_type": "markdown",
   "metadata": {},
   "source": [
    "Crear Exog asfreq h sin valores nulos, cambiar tipo de valor de bool a int"
   ]
  },
  {
   "cell_type": "code",
   "execution_count": 34,
   "metadata": {},
   "outputs": [],
   "source": [
    "exog = exog.asfreq(\"h\")\n",
    "#Convert bool to int\n",
    "exog = exog.astype(int)"
   ]
  },
  {
   "cell_type": "code",
   "execution_count": 36,
   "metadata": {},
   "outputs": [],
   "source": [
    "# Seleccionar las columnas que contengan la palabra \"SURESTE\" y no \"SURESTE 2\" o \"SURESTE 3\"\n",
    "x = df.filter(regex=(\"SURESTE(?! 2| 3)\")).columns"
   ]
  },
  {
   "cell_type": "code",
   "execution_count": null,
   "metadata": {},
   "outputs": [],
   "source": []
  },
  {
   "cell_type": "markdown",
   "metadata": {},
   "source": [
    "# Se divide el test en validacion, test y entrenamiento"
   ]
  },
  {
   "cell_type": "code",
   "execution_count": null,
   "metadata": {},
   "outputs": [],
   "source": [
    "# Split data into train-validation-test\n",
    "# ======================================================================================\n",
    "end_train = '2024-02-29'\n",
    "end_val = '2024-07-30'\n",
    "\n",
    "data_train = df.loc[:end_train, :].copy()\n",
    "data_val   = df.loc[end_train:end_val, :].copy()\n",
    "data_test  = df.loc[end_val:, :].copy()\n",
    "exog_train = exog.loc[:end_train, :].copy()\n",
    "exog_val   = exog.loc[end_train:end_val, :].copy()\n",
    "exog_test  = exog.loc[end_val:, :].copy()\n",
    "\n",
    "print(f\"Train dates      : {data_train.index.min()} --- {data_train.index.max()}  (n={len(data_train)})\")\n",
    "print(f\"Validation dates : {data_val.index.min()} --- {data_val.index.max()}  (n={len(data_val)})\")\n",
    "print(f\"Test dates       : {data_test.index.min()} --- {data_test.index.max()}  (n={len(data_test)})\")"
   ]
  },
  {
   "cell_type": "markdown",
   "metadata": {},
   "source": [
    "Medidas a cambiar a futuro:\n",
    "Tiempo a predecir: 6 horas adelante, 12 horas adelante y un día.\n",
    "\n",
    "ForecasterAutoregMultiVariate, con todo el dataframe, con una estación."
   ]
  },
  {
   "cell_type": "markdown",
   "metadata": {},
   "source": [
    "Algunas de los trends que hay"
   ]
  },
  {
   "cell_type": "markdown",
   "metadata": {},
   "source": [
    "## Se buscan los mejores hiperparametros para el modelo por grid-search y se guardan en un dataframe"
   ]
  },
  {
   "cell_type": "markdown",
   "metadata": {},
   "source": [
    "Intento con datos de una estación, solo 6 horas"
   ]
  },
  {
   "cell_type": "code",
   "execution_count": null,
   "metadata": {},
   "outputs": [],
   "source": [
    "# Bayesian search hyperparameters and lags with Optuna\n",
    "# ==============================================================================\n",
    "forecaster = ForecasterAutoregMultiVariate(\n",
    "                 regressor = LGBMRegressor(random_state=123, verbose=-1),\n",
    "                 level     = 'SURESTE PM2.5 (UG/M3)',\n",
    "                 lags      = 24,\n",
    "                 steps     = 6\n",
    "             )\n",
    "\n",
    "# Search space\n",
    "def search_space(trial):\n",
    "    search_space  = {\n",
    "        'lags'            : trial.suggest_categorical('lags', [7, 14]),\n",
    "        'n_estimators'    : trial.suggest_int('n_estimators', 10, 20),\n",
    "        'min_samples_leaf': trial.suggest_int('min_samples_leaf', 1., 10),\n",
    "        'max_features'    : trial.suggest_categorical('max_features', ['log2', 'sqrt'])\n",
    "    }\n",
    "\n",
    "    return search_space\n",
    "\n",
    "results, best_trial = bayesian_search_forecaster_multiseries(\n",
    "                          forecaster            = forecaster,\n",
    "                          series                = df[x],\n",
    "                          exog                  = exog, \n",
    "                          search_space          = search_space,\n",
    "                          steps                 = 6,\n",
    "                          metric                = ['mean_absolute_error', 'mean_squared_error', 'mean_absolute_percentage_error' ],\n",
    "                          aggregate_metric      = 'weighted_average',\n",
    "                          refit                 = False,\n",
    "                          initial_train_size    = len(data_train),\n",
    "                          fixed_train_size      = False,\n",
    "                          n_trials              = 5,\n",
    "                          random_state          = 123,\n",
    "                          return_best           = False,\n",
    "                          n_jobs                = 'auto',\n",
    "                          verbose               = True,\n",
    "                          show_progress         = True,\n",
    "                          engine                = 'optuna',\n",
    "                          kwargs_create_study   = {},\n",
    "                          kwargs_study_optimize = {}\n",
    "                      )\n",
    "results.head(4)"
   ]
  },
  {
   "cell_type": "markdown",
   "metadata": {},
   "source": [
    "# Forecaster multi-variate to model each region together"
   ]
  },
  {
   "cell_type": "code",
   "execution_count": 56,
   "metadata": {},
   "outputs": [],
   "source": [
    "sureste = df.filter(regex=(\"SURESTE\")).columns"
   ]
  },
  {
   "cell_type": "code",
   "execution_count": null,
   "metadata": {},
   "outputs": [],
   "source": [
    "sureste"
   ]
  },
  {
   "cell_type": "code",
   "execution_count": null,
   "metadata": {},
   "outputs": [],
   "source": [
    "# Bayesian search hyperparameters and lags with Optuna\n",
    "# ==============================================================================\n",
    "forecaster = ForecasterAutoregMultiVariate(\n",
    "                 regressor = LGBMRegressor(random_state=123, verbose=-1),\n",
    "                 level     = 'SURESTE PM2.5 (UG/M3)',\n",
    "                 lags      = 24,\n",
    "                 steps     = 6\n",
    "             )\n",
    "\n",
    "# Search space\n",
    "def search_space(trial):\n",
    "    search_space  = {\n",
    "        'lags'            : trial.suggest_categorical('lags', [7, 14]),\n",
    "        'n_estimators'    : trial.suggest_int('n_estimators', 10, 20),\n",
    "        'min_samples_leaf': trial.suggest_int('min_samples_leaf', 1., 10),\n",
    "        'max_features'    : trial.suggest_categorical('max_features', ['log2', 'sqrt'])\n",
    "    }\n",
    "\n",
    "    return search_space\n",
    "\n",
    "results, best_trial = bayesian_search_forecaster_multiseries(\n",
    "                          forecaster            = forecaster,\n",
    "                          series                = df[sureste],\n",
    "                          exog                  = exog, \n",
    "                          search_space          = search_space,\n",
    "                          steps                 = 6,\n",
    "                          metric                = ['mean_absolute_error', 'mean_squared_error', 'mean_absolute_percentage_error' ],\n",
    "                          aggregate_metric      = 'weighted_average',\n",
    "                          refit                 = False,\n",
    "                          initial_train_size    = len(data_train),\n",
    "                          fixed_train_size      = False,\n",
    "                          n_trials              = 5,\n",
    "                          random_state          = 123,\n",
    "                          return_best           = False,\n",
    "                          n_jobs                = 'auto',\n",
    "                          verbose               = True,\n",
    "                          show_progress         = True,\n",
    "                          engine                = 'optuna',\n",
    "                          kwargs_create_study   = {},\n",
    "                          kwargs_study_optimize = {}\n",
    "                      )\n",
    "results.head(4)"
   ]
  },
  {
   "cell_type": "markdown",
   "metadata": {},
   "source": [
    "Obtener una tabla con R^2,  MSE, RSME"
   ]
  },
  {
   "cell_type": "markdown",
   "metadata": {},
   "source": [
    "# Se hará un modelo por region"
   ]
  },
  {
   "cell_type": "markdown",
   "metadata": {},
   "source": [
    "Se puede guardar cada modelo en un csv, que puede ser releido para usarse en el futuro, pero es recomendable reentrenar cada mes"
   ]
  },
  {
   "cell_type": "markdown",
   "metadata": {},
   "source": [
    "Se crea un dataframe con cada uno de los parametros necesarios"
   ]
  },
  {
   "cell_type": "code",
   "execution_count": 89,
   "metadata": {},
   "outputs": [],
   "source": [
    "from sklearn.metrics import mean_absolute_error, mean_absolute_percentage_error, mean_squared_error, r2_score"
   ]
  },
  {
   "cell_type": "markdown",
   "metadata": {},
   "source": [
    "Se entrena cada modelo y se predice para una semana y para un mes, se guarda en un dataframe cada predicción"
   ]
  },
  {
   "cell_type": "code",
   "execution_count": 68,
   "metadata": {},
   "outputs": [],
   "source": [
    "#Get each first part of the column name\n",
    "regions = df.columns.str.split(\" \").str[0].unique()"
   ]
  },
  {
   "cell_type": "code",
   "execution_count": null,
   "metadata": {},
   "outputs": [],
   "source": [
    "for region in regions:\n",
    "    # Create and fit forecaster MultiVariate\n",
    "    # ==============================================================================\n",
    "    forecaster = ForecasterAutoregMultiVariate(\n",
    "                    regressor          = LGBMRegressor(random_state=123, verbose=-1),\n",
    "                    level              = 'SURESTE PM2.5 (UG/M3)', #Hay que hacer que cambie de SURESTE a SURESTE 2, 3 y cada region tiene sus propios numeros\n",
    "                    lags               = 21,\n",
    "                    steps              = 6,\n",
    "                    transformer_series = StandardScaler(),\n",
    "                    transformer_exog   = None,\n",
    "                    weight_func        = None,\n",
    "                    n_jobs             = 'auto'\n",
    "                    min_samples_leaf   = 9,\n",
    "                    n_estimators       = 10,\n",
    "                    max_features       = 'log2'\n",
    "                    \n",
    "                )\n",
    "\n",
    "    forecaster.fit(series=data_train.filter(regex=(region)), exog=exog_train)\n",
    "    predictions = forecaster.predict(steps=6, last_window=data_val.filter(regex=(region)), exog=exog_val)\n",
    "    "
   ]
  },
  {
   "cell_type": "code",
   "execution_count": 87,
   "metadata": {},
   "outputs": [],
   "source": [
    "    # Create and fit forecaster MultiVariate\n",
    "    # ==============================================================================\n",
    "forecaster = ForecasterAutoregMultiVariate(\n",
    "                regressor          = LGBMRegressor(random_state=123, verbose=-1),\n",
    "                level              = 'SURESTE PM2.5 (UG/M3)', #Hay que hacer que cambie de SURESTE a SURESTE 2, 3 y cada region tiene sus propios numeros\n",
    "                lags               = 21,\n",
    "                steps              = 6,\n",
    "                transformer_series = StandardScaler(),\n",
    "                transformer_exog   = None,\n",
    "                weight_func        = None,\n",
    "                n_jobs             = 'auto',\n",
    "                    \n",
    "            )\n",
    "\n",
    "forecaster.fit(series=data_train.filter(regex=(\"SURESTE\")))\n"
   ]
  },
  {
   "cell_type": "code",
   "execution_count": 88,
   "metadata": {},
   "outputs": [],
   "source": [
    "predictions = forecaster.predict(steps=6, last_window=data_val.filter(regex=(\"SURESTE\")))\n"
   ]
  },
  {
   "cell_type": "markdown",
   "metadata": {},
   "source": [
    "Puede predecir 6 horas\n",
    "\n",
    "2024-07-31 05:00:00"
   ]
  },
  {
   "cell_type": "code",
   "execution_count": null,
   "metadata": {},
   "outputs": [],
   "source": [
    "predictions"
   ]
  },
  {
   "cell_type": "code",
   "execution_count": null,
   "metadata": {},
   "outputs": [],
   "source": [
    "# Get the models stats\n",
    "data_test.filter(regex=(\"SURESTE PM2.5\")).loc[\"2024-07-31\"].head(6)"
   ]
  },
  {
   "cell_type": "code",
   "execution_count": null,
   "metadata": {},
   "outputs": [],
   "source": [
    "# Get the R^2, RMSE, MAE and MAPE\n",
    "r2 = r2_score(data_test.filter(regex=(\"SURESTE PM2.5\")).loc[\"2024-07-31\"].head(6), predictions)\n",
    "rmse = mean_squared_error(data_test.filter(regex=(\"SURESTE PM2.5\")).loc[\"2024-07-31\"].head(6), predictions, squared=False)\n",
    "mae = mean_absolute_error(data_test.filter(regex=(\"SURESTE PM2.5\")).loc[\"2024-07-31\"].head(6), predictions)\n",
    "mape = mean_absolute_percentage_error(data_test.filter(regex=(\"SURESTE PM2.5\")).loc[\"2024-07-31\"].head(6), predictions)\n",
    "\n",
    "print(f\"R^2: {r2}\")\n",
    "print(f\"RMSE: {rmse}\")\n",
    "print(f\"MAE: {mae}\")\n",
    "print(f\"MAPE: {mape}\")\n"
   ]
  },
  {
   "cell_type": "code",
   "execution_count": null,
   "metadata": {},
   "outputs": [],
   "source": [
    "# Plot the predicted, vs real\n",
    "plt.plot(data_test.filter(regex=(\"SURESTE PM2.5\")).loc[\"2024-07-31\"].head(6), label=\"Real\")\n",
    "plt.plot(predictions, label=\"Predicted\")\n",
    "plt.legend()"
   ]
  },
  {
   "cell_type": "markdown",
   "metadata": {},
   "source": [
    "# Modelo con datos de una sola estacion"
   ]
  },
  {
   "cell_type": "code",
   "execution_count": 113,
   "metadata": {},
   "outputs": [],
   "source": [
    "    # Create and fit forecaster MultiVariate\n",
    "    # ==============================================================================\n",
    "forecaster = ForecasterAutoregMultiVariate(\n",
    "                regressor          = LGBMRegressor(random_state=123, verbose=-1),\n",
    "                level              = 'SURESTE PM2.5 (UG/M3)', #Hay que hacer que cambie de SURESTE a SURESTE 2, 3 y cada region tiene sus propios numeros\n",
    "                lags               = 21,\n",
    "                steps              = 6,\n",
    "                transformer_series = StandardScaler(),\n",
    "                transformer_exog   = None,\n",
    "                weight_func        = None,\n",
    "                n_jobs             = 'auto',\n",
    "                    \n",
    "            )\n",
    "\n",
    "forecaster.fit(df.filter(regex=(\"SURESTE(?! 2| 3)\")).loc[:end_train])"
   ]
  },
  {
   "cell_type": "code",
   "execution_count": null,
   "metadata": {},
   "outputs": [],
   "source": [
    "predictions = forecaster.predict(steps=6, last_window=df.filter(regex=(\"SURESTE(?! 2| 3)\")).loc[end_train:end_val])\n",
    "predictions\n"
   ]
  },
  {
   "cell_type": "code",
   "execution_count": null,
   "metadata": {},
   "outputs": [],
   "source": [
    "# Get the R^2, RMSE, MAE and MAPE\n",
    "r2 = r2_score(data_test.filter(regex=(\"SURESTE PM2.5\")).loc[\"2024-07-31\"].head(6), predictions)\n",
    "rmse = mean_squared_error(data_test.filter(regex=(\"SURESTE PM2.5\")).loc[\"2024-07-31\"].head(6), predictions, squared=False)\n",
    "mae = mean_absolute_error(data_test.filter(regex=(\"SURESTE PM2.5\")).loc[\"2024-07-31\"].head(6), predictions)\n",
    "mape = mean_absolute_percentage_error(data_test.filter(regex=(\"SURESTE PM2.5\")).loc[\"2024-07-31\"].head(6), predictions)\n",
    "\n",
    "print(f\"R^2: {r2}\")\n",
    "print(f\"RMSE: {rmse}\")\n",
    "print(f\"MAE: {mae}\")\n",
    "print(f\"MAPE: {mape}\")"
   ]
  },
  {
   "cell_type": "code",
   "execution_count": null,
   "metadata": {},
   "outputs": [],
   "source": [
    "# Plot the predicted, vs real\n",
    "plt.plot(data_test.filter(regex=(\"SURESTE PM2.5\")).loc[\"2024-07-31\"].head(6), label=\"Real\")\n",
    "plt.plot(predictions, label=\"Predicted\")\n",
    "plt.legend()"
   ]
  },
  {
   "cell_type": "code",
   "execution_count": 32,
   "metadata": {},
   "outputs": [],
   "source": [
    "for i in models.index:\n",
    "    forecaster = ForecasterAutoreg(\n",
    "                     regressor     = HistGradientBoostingRegressor(random_state=123, max_depth=models.loc[i,\"max_depth\"], max_iter=models.loc[i,\"max_iter\"], learning_rate=models.loc[i,\"learning_rate\"]),\n",
    "                     lags          = [models.loc[i,\"lags\"].max()],\n",
    "                     transformer_y = StandardScaler()\n",
    "                 )\n",
    "    forecaster.fit(y=data.loc[:\"2023-11-30\",i], exog=exog.loc[:\"2023-11-30\", :])\n",
    "    month_pred[i] = forecaster.predict(steps=31, exog=exog.loc[\"2023-12-01\":])\n",
    "    week_pred[i] = forecaster.predict(steps=8, exog=exog.loc[\"2023-12-01\":])"
   ]
  },
  {
   "cell_type": "markdown",
   "metadata": {},
   "source": [
    "Se ayuda un poco al modelo dado que los valores negativos no existen en los productos"
   ]
  },
  {
   "cell_type": "code",
   "execution_count": 34,
   "metadata": {},
   "outputs": [],
   "source": []
  },
  {
   "cell_type": "markdown",
   "metadata": {},
   "source": [
    "Se consiguen las estadisticas que tiene el modelo para predecir durante un mes y durante una semana"
   ]
  },
  {
   "cell_type": "code",
   "execution_count": null,
   "metadata": {},
   "outputs": [],
   "source": [
    "stats_mes = pd.DataFrame()\n",
    "for i in month_pred.columns:\n",
    "    y_pred = month_pred[i]\n",
    "    y_test = data.loc[\"2023-12-01\":\"2023-12-31\",i]\n",
    "    mae = mean_absolute_error(y_true=y_test, y_pred=y_pred)\n",
    "    mape = mean_absolute_percentage_error(y_true=y_test, y_pred=y_pred)\n",
    "    mse = mean_squared_error(y_true=y_test, y_pred=y_pred)\n",
    "    r2 = r2_score(y_true=y_test, y_pred=y_pred)\n",
    "    mape2 = abs((y_pred - y_test)/y_test).replace([np.inf, -np.inf], np.log(0.9999999999999999999999999)).dropna().sum()/30\n",
    "    mape3 = (np.abs((y_test - y_pred)/np.where(y_test==0, 1, y_test))).mean()\n",
    "    smape = 1/len(y_test) * np.sum(2*np.abs(y_pred - y_test)/(np.abs(y_pred) + np.abs(y_test))*100)\n",
    "    valor_real = y_test.sum()\n",
    "    valor_pred = y_pred.sum()\n",
    "    error = (valor_real - valor_pred)/valor_real\n",
    "    error_semanal = error/4 * 100\n",
    "    stats_mes = pd.concat([stats_mes, pd.DataFrame({\"Producto\":i, \"MAE\":mae, \"MSE\":mse, \"R2\":r2, \"SMAPE\": smape,\"MAPE lib\":mape,\"MAPE2\":mape2,\"MAPE3\":mape3, \"valor real\": \n",
    "        valor_real, \"valor predecido\": valor_pred, \"error\":error*100, \"error por semana\": error_semanal}, index=[0])], axis=0)\n",
    "stats_mes"
   ]
  },
  {
   "cell_type": "code",
   "execution_count": null,
   "metadata": {},
   "outputs": [],
   "source": [
    "stats_semana = pd.DataFrame()\n",
    "for i in month_pred.columns:\n",
    "    y_pred = week_pred[i]\n",
    "    y_test = data.loc[\"2023-12-01\":\"2023-12-8\",i]\n",
    "    mae = mean_absolute_error(y_true=y_test, y_pred=y_pred)\n",
    "    mape = mean_absolute_percentage_error(y_true=y_test, y_pred=y_pred)\n",
    "    mse = mean_squared_error(y_true=y_test, y_pred=y_pred)\n",
    "    r2 = r2_score(y_true=y_test, y_pred=y_pred)\n",
    "    mape2 = abs((y_pred - y_test)/y_test).replace([np.inf, -np.inf], np.log(0.9999999999999999999999999)).dropna().sum()/30\n",
    "    mape3 = (np.abs((y_test - y_pred)/np.where(y_test==0, 1, y_test))).mean()\n",
    "    smape = 1/len(y_test) * np.sum(2*np.abs(y_pred - y_test)/(np.abs(y_pred) + np.abs(y_test))*100)\n",
    "    valor_real = y_test.sum()\n",
    "    valor_pred = y_pred.sum()\n",
    "    error = (valor_real - valor_pred)/valor_real *100\n",
    "    stats_semana = pd.concat([stats_semana, pd.DataFrame({\"Producto\":i, \"MAE\":mae, \"MSE\":mse, \"R2\":r2, \"SMAPE\": smape,\"MAPE lib\":mape,\"MAPE2\":mape2,\"MAPE3\":mape3, \"valor real\": \n",
    "        valor_real, \"valor predecido\": valor_pred, \"error\":error}, index=[0])], axis=0)\n",
    "stats_semana"
   ]
  },
  {
   "cell_type": "code",
   "execution_count": null,
   "metadata": {},
   "outputs": [],
   "source": [
    "#Save figure#\n",
    "for i in month_pred.columns:\n",
    "    fig, ax=plt.subplots(figsize=(7, 3))\n",
    "    month_pred[i].plot(ax=ax,color='red', linestyle='--', label='Predicciones')\n",
    "    data.loc[\"2023-12-01\":\"2023-12-31\",i].plot(ax=ax,color='blue', linestyle='-', label='Valores reales')\n",
    "    ax.set_title(i)\n",
    "    ax.legend()\n",
    "    ax.set_ylabel('Ventas')\n",
    "    ax.set_xlabel('Fecha')\n",
    "    #plt.savefig(f\"pred_mensual_{i}.png\")\n",
    "    "
   ]
  },
  {
   "cell_type": "markdown",
   "metadata": {},
   "source": [
    "## Agregar modelo del otro producto y comparar"
   ]
  },
  {
   "cell_type": "code",
   "execution_count": null,
   "metadata": {},
   "outputs": [],
   "source": [
    "for i in week_pred.columns:\n",
    "    fig, ax=plt.subplots(figsize=(7, 3))\n",
    "    week_pred[i].plot(ax=ax,color='#ECA24E', linestyle='--', label='Predicciones', linewidth=2.5)\n",
    "    data.loc[\"2023-12-01\":\"2023-12-08\",i].plot(ax=ax,color='#1f93cf', linestyle='-', label='Valores reales', linewidth=2.5)\n",
    "    ax.set_title(i, color = 'white')\n",
    "    ax.set_facecolor('#0e4588')\n",
    "    ax.grid(color='white')\n",
    "    #ax.tick_params(axis='x', colors='white')\n",
    "    #ax.spines['bottom'].set_color('white')\n",
    "    #ax.spines['top'].set_color('white')\n",
    "    #ax.xaxis.label.set_color('white')\n",
    "    #ax.tick_params(axis='x', colors='white', labelsize = 10, which = 'major')\n",
    "    fig.set_facecolor('#1f93cf')\n",
    "    ax.set_ylabel('Ventas',color='white') \n",
    "    ax.set_xlabel('Fecha',color='white')\n",
    "    plt.xticks(color='white', weight='bold')\n",
    "    plt.yticks(color='white', weight='bold')\n",
    "    #plt.legend(color='white')\n",
    "    ax.legend()"
   ]
  },
  {
   "cell_type": "code",
   "execution_count": null,
   "metadata": {},
   "outputs": [],
   "source": [
    "resid = data[\"Producto 0\"].loc[\"2023-10-21\":\"2023-10-28\"] - predicts"
   ]
  },
  {
   "cell_type": "code",
   "execution_count": null,
   "metadata": {},
   "outputs": [],
   "source": [
    "week_pred.to_csv(\"predicciones_semanales_HGB.csv\")\n",
    "month_pred.to_csv(\"predicciones_mensuales_HGB.csv\")\n",
    "data.to_csv(\"datatop20.csv\")"
   ]
  },
  {
   "cell_type": "code",
   "execution_count": null,
   "metadata": {},
   "outputs": [],
   "source": []
  }
 ],
 "metadata": {
  "kernelspec": {
   "display_name": "personal",
   "language": "python",
   "name": "python3"
  },
  "language_info": {
   "codemirror_mode": {
    "name": "ipython",
    "version": 3
   },
   "file_extension": ".py",
   "mimetype": "text/x-python",
   "name": "python",
   "nbconvert_exporter": "python",
   "pygments_lexer": "ipython3",
   "version": "3.11.9"
  }
 },
 "nbformat": 4,
 "nbformat_minor": 2
}
